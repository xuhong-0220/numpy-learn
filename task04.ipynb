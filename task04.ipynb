{
 "cells": [
  {
   "cell_type": "markdown",
   "metadata": {},
   "source": [
    "## 向量化和广播\n",
    "向量化和广播这两个概念是 numpy 内部实现的基础。有了向量化，编写代码时无需使用显式循环。这些循环实际上不能省略，只不过是在内部实现，被代码中的其他结构代替。向量化的应用使得代码更简洁，可读性更强，也可以说使用了向量化方法的代码看上去更“Pythonic”。\n",
    "\n",
    "广播（Broadcasting）机制描述了 numpy 如何在算术运算期间处理具有不同形状的数组，让较小的数组在较大的数组上“广播”，以便它们具有兼容的形状。并不是所有的维度都要彼此兼容才符合广播机制的要求，但它们必须满足一定的条件。\n",
    "\n",
    "若两个数组的各维度兼容，也就是两个数组的每一维等长，或其中一个数组为 一维，那么广播机制就适用。如果这两个条件不满足，numpy就会抛出异常，说两个数组不兼容。\n",
    "\n",
    "总结来说，广播的规则有三个：\n",
    "\n",
    "- 如果两个数组的维度数dim不相同，那么小维度数组的形状将会在左边补1。\n",
    "- 如果shape维度不匹配，但是有维度是1，那么可以扩展维度是1的维度匹配另一个数组；\n",
    "- 如果shape维度不匹配，但是没有任何一个维度是1，则匹配引发错误；"
   ]
  },
  {
   "cell_type": "code",
   "execution_count": 4,
   "metadata": {},
   "outputs": [
    {
     "name": "stdout",
     "output_type": "stream",
     "text": [
      "(4,)\n",
      "(3, 4)\n",
      "============1==============\n",
      "(3, 4)\n",
      "=============2=============\n",
      "[[1. 2. 3. 4.]\n",
      " [1. 2. 3. 4.]\n",
      " [1. 2. 3. 4.]]\n"
     ]
    }
   ],
   "source": [
    "import numpy as np\n",
    "x=np.arange(4)\n",
    "y=np.ones((3,4))\n",
    "print(x.shape)\n",
    "print(y.shape)\n",
    "print('============1==============')\n",
    "print((x+y).shape)\n",
    "print('=============2=============')\n",
    "print(x+y)"
   ]
  },
  {
   "cell_type": "code",
   "execution_count": 7,
   "metadata": {},
   "outputs": [
    {
     "name": "stdout",
     "output_type": "stream",
     "text": [
      "(4, 1)\n",
      "(5,)\n",
      "==================1================\n",
      "(4, 5)\n",
      "[[1. 1. 1. 1. 1.]\n",
      " [2. 2. 2. 2. 2.]\n",
      " [3. 3. 3. 3. 3.]\n",
      " [4. 4. 4. 4. 4.]]\n",
      "===============2===================\n",
      "[[ 1.1  2.1  3.1]\n",
      " [11.  12.  13. ]\n",
      " [21.  22.  23. ]\n",
      " [31.  32.  33. ]]\n"
     ]
    }
   ],
   "source": [
    "x=np.arange(4).reshape(4,1)\n",
    "y=np.ones(5)  # 一维数组\n",
    "print(x.shape)\n",
    "print(y.shape)\n",
    "print('==================1================')\n",
    "print((x+y).shape)\n",
    "print(x+y)\n",
    "print('===============2===================')\n",
    "x=np.array([0.1,10.0,20.0,30.0])\n",
    "y=np.array([1.0,2.0,3.0])\n",
    "z=x[:,np.newaxis]+y\n",
    "print(z)"
   ]
  },
  {
   "cell_type": "markdown",
   "metadata": {},
   "source": [
    "## 数学函数\n",
    "### 算术运算\n",
    "\n",
    "加减乘除\n",
    "- numpy.add(x1, x2, * args, ** kwargs) \n",
    "- numpy.subtract(x1, x2, * args, ** kwargs) \n",
    "- numpy.multiply(x1, x2, * args, ** kwargs) \n",
    "- numpy.divide(x1, x2, * args, ** kwargs)\n",
    "- numpy.floor_divide(x1, x2, * args, ** kwargs) \n",
    "- numpy.power(x1, x2, * args, ** kwargs)\n",
    "\n",
    "这里的加减乘除都是数组元素之间的运算，结果是一个新的数组"
   ]
  },
  {
   "cell_type": "code",
   "execution_count": 12,
   "metadata": {},
   "outputs": [
    {
     "name": "stdout",
     "output_type": "stream",
     "text": [
      "=========加法==================\n",
      "[2 3 4 5 6 7 8 9]\n",
      "[2 3 4 5 6 7 8 9]\n",
      "=============减法================\n",
      "[0 1 2 3 4 5 6 7]\n",
      "[0 1 2 3 4 5 6 7]\n",
      "===============乘法===============\n",
      "[ 2  4  6  8 10 12 14 16]\n",
      "[ 2  4  6  8 10 12 14 16]\n",
      "===========除法=======================\n",
      "[0.5 1.  1.5 2.  2.5 3.  3.5 4. ]\n",
      "[0.5 1.  1.5 2.  2.5 3.  3.5 4. ]\n",
      "===========除法商==================\n",
      "[0 1 1 2 2 3 3 4]\n",
      "[0 1 1 2 2 3 3 4]\n",
      "========================二次幂====================\n",
      "[ 1  4  9 16 25 36 49 64]\n",
      "[ 1  4  9 16 25 36 49 64]\n"
     ]
    }
   ],
   "source": [
    "x=np.array([1,2,3,4,5,6,7,8])\n",
    "y=x+1\n",
    "print('=========加法==================')\n",
    "print(y)\n",
    "print(np.add(x,1))\n",
    "print('=============减法================')\n",
    "y=x-1\n",
    "print(y)\n",
    "print(np.subtract(x,1))\n",
    "print('===============乘法===============')\n",
    "y=x*2\n",
    "print(y)\n",
    "print(np.multiply(x,2))\n",
    "print('===========除法=======================')\n",
    "y=x/2\n",
    "print(y)\n",
    "print(np.divide(x,2))\n",
    "print('===========除法商==================')\n",
    "y=x//2\n",
    "print(y)\n",
    "print(np.floor_divide(x,2))\n",
    "print('========================二次幂====================')\n",
    "y=x**2\n",
    "print(y)\n",
    "print(np.power(x,2))"
   ]
  },
  {
   "cell_type": "code",
   "execution_count": 13,
   "metadata": {},
   "outputs": [
    {
     "name": "stdout",
     "output_type": "stream",
     "text": [
      "=========加法==================\n",
      "[[ 12  23  34  45  56]\n",
      " [ 67  78  89 100  99]\n",
      " [ 13  24  35  46  57]\n",
      " [ 68  79  90  91 100]\n",
      " [ 88  87  86  85  84]]\n",
      "[[ 12  23  34  45  56]\n",
      " [ 67  78  89 100  99]\n",
      " [ 13  24  35  46  57]\n",
      " [ 68  79  90  91 100]\n",
      " [ 88  87  86  85  84]]\n",
      "=============减法================\n",
      "[[10 21 32 43 54]\n",
      " [65 76 87 98 97]\n",
      " [11 22 33 44 55]\n",
      " [66 77 88 89 98]\n",
      " [86 85 84 83 82]]\n",
      "[[10 21 32 43 54]\n",
      " [65 76 87 98 97]\n",
      " [11 22 33 44 55]\n",
      " [66 77 88 89 98]\n",
      " [86 85 84 83 82]]\n",
      "===============乘法===============\n",
      "[[ 22  44  66  88 110]\n",
      " [132 154 176 198 196]\n",
      " [ 24  46  68  90 112]\n",
      " [134 156 178 180 198]\n",
      " [174 172 170 168 166]]\n",
      "[[ 22  44  66  88 110]\n",
      " [132 154 176 198 196]\n",
      " [ 24  46  68  90 112]\n",
      " [134 156 178 180 198]\n",
      " [174 172 170 168 166]]\n",
      "===========除法=======================\n",
      "[[ 5.5 11.  16.5 22.  27.5]\n",
      " [33.  38.5 44.  49.5 49. ]\n",
      " [ 6.  11.5 17.  22.5 28. ]\n",
      " [33.5 39.  44.5 45.  49.5]\n",
      " [43.5 43.  42.5 42.  41.5]]\n",
      "[[ 5.5 11.  16.5 22.  27.5]\n",
      " [33.  38.5 44.  49.5 49. ]\n",
      " [ 6.  11.5 17.  22.5 28. ]\n",
      " [33.5 39.  44.5 45.  49.5]\n",
      " [43.5 43.  42.5 42.  41.5]]\n",
      "===========除法商==================\n",
      "[[ 5 11 16 22 27]\n",
      " [33 38 44 49 49]\n",
      " [ 6 11 17 22 28]\n",
      " [33 39 44 45 49]\n",
      " [43 43 42 42 41]]\n",
      "[[ 5 11 16 22 27]\n",
      " [33 38 44 49 49]\n",
      " [ 6 11 17 22 28]\n",
      " [33 39 44 45 49]\n",
      " [43 43 42 42 41]]\n",
      "========================二次幂====================\n",
      "[[ 121  484 1089 1936 3025]\n",
      " [4356 5929 7744 9801 9604]\n",
      " [ 144  529 1156 2025 3136]\n",
      " [4489 6084 7921 8100 9801]\n",
      " [7569 7396 7225 7056 6889]]\n",
      "[[ 121  484 1089 1936 3025]\n",
      " [4356 5929 7744 9801 9604]\n",
      " [ 144  529 1156 2025 3136]\n",
      " [4489 6084 7921 8100 9801]\n",
      " [7569 7396 7225 7056 6889]]\n"
     ]
    }
   ],
   "source": [
    "x=np.array([[11,22,33,44,55],\n",
    "           [66,77,88,99,98],\n",
    "           [12,23,34,45,56],\n",
    "           [67,78,89,90,99],\n",
    "           [87,86,85,84,83]])\n",
    "y=x+1\n",
    "print('=========加法==================')\n",
    "print(y)\n",
    "print(np.add(x,1))\n",
    "print('=============减法================')\n",
    "y=x-1\n",
    "print(y)\n",
    "print(np.subtract(x,1))\n",
    "print('===============乘法===============')\n",
    "y=x*2\n",
    "print(y)\n",
    "print(np.multiply(x,2))\n",
    "print('===========除法=======================')\n",
    "y=x/2\n",
    "print(y)\n",
    "print(np.divide(x,2))\n",
    "print('===========除法商==================')\n",
    "y=x//2\n",
    "print(y)\n",
    "print(np.floor_divide(x,2))\n",
    "print('========================二次幂====================')\n",
    "y=x**2\n",
    "print(y)\n",
    "print(np.power(x,2))"
   ]
  },
  {
   "cell_type": "code",
   "execution_count": 14,
   "metadata": {},
   "outputs": [
    {
     "name": "stdout",
     "output_type": "stream",
     "text": [
      "[1 2 3 4 5]\n"
     ]
    }
   ],
   "source": [
    "x=np.array([[11,22,33,44,55],\n",
    "           [66,77,88,99,98],\n",
    "           [12,23,34,45,56],\n",
    "           [67,78,89,90,99],\n",
    "           [87,86,85,84,83]])\n",
    "y=np.arange(1,6)\n",
    "print(y)\n"
   ]
  },
  {
   "cell_type": "code",
   "execution_count": 15,
   "metadata": {},
   "outputs": [
    {
     "name": "stdout",
     "output_type": "stream",
     "text": [
      "[[10 20 30 40 50]\n",
      " [65 75 85 95 93]\n",
      " [11 21 31 41 51]\n",
      " [66 76 86 86 94]\n",
      " [86 84 82 80 78]]\n",
      "[[10 20 30 40 50]\n",
      " [65 75 85 95 93]\n",
      " [11 21 31 41 51]\n",
      " [66 76 86 86 94]\n",
      " [86 84 82 80 78]]\n"
     ]
    }
   ],
   "source": [
    "z=x-y\n",
    "print(z)\n",
    "print(np.subtract(x,y))"
   ]
  },
  {
   "cell_type": "code",
   "execution_count": 16,
   "metadata": {},
   "outputs": [
    {
     "name": "stdout",
     "output_type": "stream",
     "text": [
      "[[ 11  44  99 176 275]\n",
      " [ 66 154 264 396 490]\n",
      " [ 12  46 102 180 280]\n",
      " [ 67 156 267 360 495]\n",
      " [ 87 172 255 336 415]]\n",
      "[[ 11  44  99 176 275]\n",
      " [ 66 154 264 396 490]\n",
      " [ 12  46 102 180 280]\n",
      " [ 67 156 267 360 495]\n",
      " [ 87 172 255 336 415]]\n"
     ]
    }
   ],
   "source": [
    "z=x*y\n",
    "print(z)\n",
    "print(np.multiply(x,y))\n"
   ]
  },
  {
   "cell_type": "code",
   "execution_count": 17,
   "metadata": {},
   "outputs": [
    {
     "name": "stdout",
     "output_type": "stream",
     "text": [
      "[[11.         11.         11.         11.         11.        ]\n",
      " [66.         38.5        29.33333333 24.75       19.6       ]\n",
      " [12.         11.5        11.33333333 11.25       11.2       ]\n",
      " [67.         39.         29.66666667 22.5        19.8       ]\n",
      " [87.         43.         28.33333333 21.         16.6       ]]\n",
      "[[11.         11.         11.         11.         11.        ]\n",
      " [66.         38.5        29.33333333 24.75       19.6       ]\n",
      " [12.         11.5        11.33333333 11.25       11.2       ]\n",
      " [67.         39.         29.66666667 22.5        19.8       ]\n",
      " [87.         43.         28.33333333 21.         16.6       ]]\n"
     ]
    }
   ],
   "source": [
    "z=x/y\n",
    "print(z)\n",
    "print(np.divide(x,y))"
   ]
  },
  {
   "cell_type": "code",
   "execution_count": 18,
   "metadata": {},
   "outputs": [
    {
     "name": "stdout",
     "output_type": "stream",
     "text": [
      "[[11 11 11 11 11]\n",
      " [66 38 29 24 19]\n",
      " [12 11 11 11 11]\n",
      " [67 39 29 22 19]\n",
      " [87 43 28 21 16]]\n",
      "[[11 11 11 11 11]\n",
      " [66 38 29 24 19]\n",
      " [12 11 11 11 11]\n",
      " [67 39 29 22 19]\n",
      " [87 43 28 21 16]]\n"
     ]
    }
   ],
   "source": [
    "z=x//y\n",
    "print(z)\n",
    "print(np.floor_divide(x,y))\n"
   ]
  },
  {
   "cell_type": "code",
   "execution_count": 19,
   "metadata": {},
   "outputs": [
    {
     "name": "stdout",
     "output_type": "stream",
     "text": [
      "[[ 121  484 1089 1936 3025]\n",
      " [4356 5929 7744 9801 9604]\n",
      " [ 144  529 1156 2025 3136]\n",
      " [4489 6084 7921 8100 9801]\n",
      " [7569 7396 7225 7056 6889]]\n",
      "[[ 121  484 1089 1936 3025]\n",
      " [4356 5929 7744 9801 9604]\n",
      " [ 144  529 1156 2025 3136]\n",
      " [4489 6084 7921 8100 9801]\n",
      " [7569 7396 7225 7056 6889]]\n"
     ]
    }
   ],
   "source": [
    "z=x**np.full([1,5],2)\n",
    "print(z)\n",
    "print(np.power(x,np.full([5,5],2)))"
   ]
  },
  {
   "cell_type": "code",
   "execution_count": 21,
   "metadata": {},
   "outputs": [
    {
     "name": "stdout",
     "output_type": "stream",
     "text": [
      "[[ 1  2  3  4  5]\n",
      " [ 6  7  8  9 10]\n",
      " [11 12 13 14 15]\n",
      " [16 17 18 19 20]\n",
      " [21 22 23 24 25]]\n",
      "=========加法==================\n",
      "[[ 12  24  36  48  60]\n",
      " [ 72  84  96 108 108]\n",
      " [ 23  35  47  59  71]\n",
      " [ 83  95 107 109 119]\n",
      " [108 108 108 108 108]]\n",
      "[[ 12  24  36  48  60]\n",
      " [ 72  84  96 108 108]\n",
      " [ 23  35  47  59  71]\n",
      " [ 83  95 107 109 119]\n",
      " [108 108 108 108 108]]\n",
      "=============减法================\n",
      "[[10 20 30 40 50]\n",
      " [60 70 80 90 88]\n",
      " [ 1 11 21 31 41]\n",
      " [51 61 71 71 79]\n",
      " [66 64 62 60 58]]\n",
      "[[10 20 30 40 50]\n",
      " [60 70 80 90 88]\n",
      " [ 1 11 21 31 41]\n",
      " [51 61 71 71 79]\n",
      " [66 64 62 60 58]]\n",
      "===============乘法===============\n",
      "[[  11   44   99  176  275]\n",
      " [ 396  539  704  891  980]\n",
      " [ 132  276  442  630  840]\n",
      " [1072 1326 1602 1710 1980]\n",
      " [1827 1892 1955 2016 2075]]\n",
      "[[  11   44   99  176  275]\n",
      " [ 396  539  704  891  980]\n",
      " [ 132  276  442  630  840]\n",
      " [1072 1326 1602 1710 1980]\n",
      " [1827 1892 1955 2016 2075]]\n",
      "===========除法=======================\n",
      "[[11.         11.         11.         11.         11.        ]\n",
      " [11.         11.         11.         11.          9.8       ]\n",
      " [ 1.09090909  1.91666667  2.61538462  3.21428571  3.73333333]\n",
      " [ 4.1875      4.58823529  4.94444444  4.73684211  4.95      ]\n",
      " [ 4.14285714  3.90909091  3.69565217  3.5         3.32      ]]\n",
      "[[11.         11.         11.         11.         11.        ]\n",
      " [11.         11.         11.         11.          9.8       ]\n",
      " [ 1.09090909  1.91666667  2.61538462  3.21428571  3.73333333]\n",
      " [ 4.1875      4.58823529  4.94444444  4.73684211  4.95      ]\n",
      " [ 4.14285714  3.90909091  3.69565217  3.5         3.32      ]]\n",
      "===========除法商==================\n",
      "[[11 11 11 11 11]\n",
      " [11 11 11 11  9]\n",
      " [ 1  1  2  3  3]\n",
      " [ 4  4  4  4  4]\n",
      " [ 4  3  3  3  3]]\n",
      "[[11 11 11 11 11]\n",
      " [11 11 11 11  9]\n",
      " [ 1  1  2  3  3]\n",
      " [ 4  4  4  4  4]\n",
      " [ 4  3  3  3  3]]\n",
      "========================二次幂====================\n",
      "[[ 121  484 1089 1936 3025]\n",
      " [4356 5929 7744 9801 9604]\n",
      " [ 144  529 1156 2025 3136]\n",
      " [4489 6084 7921 8100 9801]\n",
      " [7569 7396 7225 7056 6889]]\n",
      "[[ 121  484 1089 1936 3025]\n",
      " [4356 5929 7744 9801 9604]\n",
      " [ 144  529 1156 2025 3136]\n",
      " [4489 6084 7921 8100 9801]\n",
      " [7569 7396 7225 7056 6889]]\n"
     ]
    }
   ],
   "source": [
    "x=np.array([[11,22,33,44,55],\n",
    "           [66,77,88,99,98],\n",
    "           [12,23,34,45,56],\n",
    "           [67,78,89,90,99],\n",
    "           [87,86,85,84,83]])\n",
    "y=np.arange(1,26).reshape([5,5])\n",
    "print(y)\n",
    "z=x+y\n",
    "print('=========加法==================')\n",
    "print(z)\n",
    "print(np.add(x,y))\n",
    "print('=============减法================')\n",
    "z=x-y\n",
    "print(z)\n",
    "print(np.subtract(x,y))\n",
    "print('===============乘法===============')\n",
    "z=x*y\n",
    "print(z)\n",
    "print(np.multiply(x,y))\n",
    "print('===========除法=======================')\n",
    "z=x/y\n",
    "print(z)\n",
    "print(np.divide(x,y))\n",
    "print('===========除法商==================')\n",
    "z=x//y\n",
    "print(z)\n",
    "print(np.floor_divide(x,y))\n",
    "print('========================二次幂====================')\n",
    "z=x**np.full([5,5],2)\n",
    "print(z)\n",
    "print(np.power(x,np.full([5,5],2)))"
   ]
  },
  {
   "cell_type": "markdown",
   "metadata": {},
   "source": [
    "### numpy.sqrt\n",
    "### numpy.square\n",
    "- numpy.sqrt(x, * args, ** kwargs) \n",
    "- numpy.square(x, * args, ** kwargs)"
   ]
  },
  {
   "cell_type": "code",
   "execution_count": 22,
   "metadata": {},
   "outputs": [
    {
     "name": "stdout",
     "output_type": "stream",
     "text": [
      "[1 2 3 4]\n",
      "=============开方================\n",
      "[1.         1.41421356 1.73205081 2.        ]\n",
      "[1.         1.41421356 1.73205081 2.        ]\n",
      "==================平方==========\n",
      "[ 1  4  9 16]\n",
      "[ 1  4  9 16]\n"
     ]
    }
   ],
   "source": [
    "x=np.arange(1,5)\n",
    "print(x)\n",
    "print('=============开方================')\n",
    "y=np.sqrt(x)\n",
    "print(y)\n",
    "print(np.power(x,0.5))\n",
    "print('==================平方==========')\n",
    "y=np.square(x)\n",
    "print(y)\n",
    "print(np.power(x,2))"
   ]
  },
  {
   "cell_type": "markdown",
   "metadata": {},
   "source": [
    "## 三角函数\n",
    "- cos\n",
    "- sin\n",
    "- tan\n",
    "- arcsin\n",
    "- arccos\n",
    "- arctan\n",
    "- numpy.sin(x, * args, ** kwargs)  \n",
    "- numpy.cos(x, * args, ** kwargs)  \n",
    "- numpy.tan(x, * args, ** kwargs)  \n",
    "- numpy.arcsin(x, * args, ** kwargs)  \n",
    "- numpy.arccos(x, * args, ** kwargs)  \n",
    "- numpy.arctan(x, * args, ** kwargs) \n",
    "\n",
    "通用函数（universal function）通常叫作ufunc，它对数组中的各个元素逐一进行操作。这表明，通用函数分别处理输入数组的每个元素，生成的结果组成一个新的输出数组。输出数组的大小跟输入数组相同。\n",
    "\n",
    "三角函数等很多数学运算符合通用函数的定义，例如，计算平方根的sqrt()函数、用来取对数的log()函数和求正弦值的sin()函数。"
   ]
  },
  {
   "cell_type": "code",
   "execution_count": 31,
   "metadata": {},
   "outputs": [
    {
     "name": "stdout",
     "output_type": "stream",
     "text": [
      "[0.         0.17453293 0.34906585 0.52359878 0.6981317  0.87266463\n",
      " 1.04719755 1.22173048 1.3962634  1.57079633]\n",
      "=======sin=============\n",
      "[0.         0.17364818 0.34202014 0.5        0.64278761 0.76604444\n",
      " 0.8660254  0.93969262 0.98480775 1.        ]\n",
      "=======arcsin=============\n",
      "[0.         0.17453293 0.34906585 0.52359878 0.6981317  0.87266463\n",
      " 1.04719755 1.22173048 1.3962634  1.57079633]\n",
      "=======cos=============\n",
      "[1.00000000e+00 9.84807753e-01 9.39692621e-01 8.66025404e-01\n",
      " 7.66044443e-01 6.42787610e-01 5.00000000e-01 3.42020143e-01\n",
      " 1.73648178e-01 6.12323400e-17]\n",
      "=======arccos=============\n",
      "[0.         0.17453293 0.34906585 0.52359878 0.6981317  0.87266463\n",
      " 1.04719755 1.22173048 1.3962634  1.57079633]\n",
      "=======tan=============\n",
      "[0.00000000e+00 1.76326981e-01 3.63970234e-01 5.77350269e-01\n",
      " 8.39099631e-01 1.19175359e+00 1.73205081e+00 2.74747742e+00\n",
      " 5.67128182e+00 1.63312394e+16]\n",
      "=======arctan=============\n",
      "[0.         0.17453293 0.34906585 0.52359878 0.6981317  0.87266463\n",
      " 1.04719755 1.22173048 1.3962634  1.57079633]\n"
     ]
    }
   ],
   "source": [
    "x=np.linspace(start=0,stop=np.pi/2,num=10)\n",
    "print(x)\n",
    "print('=======sin=============')\n",
    "y=np.sin(x)\n",
    "print(y)\n",
    "\n",
    "print('=======arcsin=============')\n",
    "z=np.arcsin(y)\n",
    "print(z)\n",
    "\n",
    "print('=======cos=============')\n",
    "y=np.cos(x)\n",
    "print(y)\n",
    "\n",
    "print('=======arccos=============')\n",
    "z=np.arccos(y)\n",
    "print(z)\n",
    "\n",
    "print('=======tan=============')\n",
    "y=np.tan(x)\n",
    "print(y)\n",
    "print('=======arctan=============')\n",
    "z=np.arctan(y)\n",
    "print(z)"
   ]
  },
  {
   "cell_type": "markdown",
   "metadata": {},
   "source": [
    "## 指数和对数\n",
    "\n",
    "- numpy.exp(x, * args, ** kwargs)  \n",
    "- numpy.log(x, * args, ** kwargs)  \n",
    "- numpy.exp2(x, * args, ** kwargs)   \n",
    "- numpy.log2(x, * args, ** kwargs) \n",
    "- numpy.log10(x, * args, ** kwargs)"
   ]
  },
  {
   "cell_type": "code",
   "execution_count": 32,
   "metadata": {},
   "outputs": [
    {
     "name": "stdout",
     "output_type": "stream",
     "text": [
      "[1 2 3 4]\n",
      "[ 2.71828183  7.3890561  20.08553692 54.59815003]\n",
      "[1. 2. 3. 4.]\n"
     ]
    }
   ],
   "source": [
    "x=np.arange(1,5)\n",
    "print(x)\n",
    "y=np.exp(x)\n",
    "print(y)\n",
    "z=np.log(y)\n",
    "print(z)"
   ]
  },
  {
   "cell_type": "markdown",
   "metadata": {},
   "source": [
    "## 加法函数、乘法函数\n",
    "- numpy.sum(a[, axis=None, dtype=None, out=None, …])\n",
    "\n",
    "通过不同的 axis，numpy 会沿着不同的方向进行操作：如果不设置，那么对所有的元素操作；如果axis=0，则沿着纵轴进行操作；axis=1，则沿着横轴进行操作。但这只是简单的二位数组，如果是多维的呢？可以总结为一句话：设axis=i，则 numpy 沿着第i个下标变化的方向进行操作。\n",
    "- numpy.cumsum(a, axis=None, dtype=None, out=None) \n",
    "\n",
    "聚合函数 是指对一组值（比如一个数组）进行操作，返回一个单一值作为结果的函数。因而，求数组所有元素之和的函数就是聚合函数。ndarray类实现了多个这样的函数。"
   ]
  },
  {
   "cell_type": "code",
   "execution_count": 34,
   "metadata": {},
   "outputs": [
    {
     "name": "stdout",
     "output_type": "stream",
     "text": [
      "1611\n",
      "[243 286 329 362 391]\n",
      "[165 428 170 423 425]\n"
     ]
    }
   ],
   "source": [
    "x=np.array([[11,22,33,44,55],\n",
    "           [66,77,88,99,98],\n",
    "           [12,23,34,45,56],\n",
    "           [67,78,89,90,99],\n",
    "           [87,86,85,84,83]])\n",
    "y=np.sum(x)\n",
    "print(y)\n",
    "y=np.sum(x,axis=0)\n",
    "print(y)\n",
    "y=np.sum(x,axis=1)\n",
    "print(y)"
   ]
  },
  {
   "cell_type": "code",
   "execution_count": 36,
   "metadata": {},
   "outputs": [
    {
     "name": "stdout",
     "output_type": "stream",
     "text": [
      "[  11   33   66  110  165  231  308  396  495  593  605  628  662  707\n",
      "  763  830  908  997 1087 1186 1273 1359 1444 1528 1611]\n"
     ]
    }
   ],
   "source": [
    "y=np.cumsum(x)\n",
    "print(y)\n",
    "# 逐个相加得到结果"
   ]
  },
  {
   "cell_type": "code",
   "execution_count": 38,
   "metadata": {},
   "outputs": [
    {
     "name": "stdout",
     "output_type": "stream",
     "text": [
      "==============x轴=================\n",
      "[[ 11  22  33  44  55]\n",
      " [ 77  99 121 143 153]\n",
      " [ 89 122 155 188 209]\n",
      " [156 200 244 278 308]\n",
      " [243 286 329 362 391]]\n",
      "=========y轴====================\n",
      "[[ 11  33  66 110 165]\n",
      " [ 66 143 231 330 428]\n",
      " [ 12  35  69 114 170]\n",
      " [ 67 145 234 324 423]\n",
      " [ 87 173 258 342 425]]\n"
     ]
    }
   ],
   "source": [
    "y=np.cumsum(x,axis=0)\n",
    "print('==============x轴=================')\n",
    "print(y)\n",
    "print('=========y轴====================')\n",
    "y=np.cumsum(x,axis=1)\n",
    "print(y)"
   ]
  },
  {
   "cell_type": "markdown",
   "metadata": {},
   "source": [
    "### numpy.prod乘积\n",
    "### numpy.cumprod累乘\n",
    "- numpy.prod(a[, axis=None, dtype=None, out=None, …]) \n",
    "- numpy.cumprod(a, axis=None, dtype=None, out=None) "
   ]
  },
  {
   "cell_type": "code",
   "execution_count": 39,
   "metadata": {},
   "outputs": [
    {
     "name": "stdout",
     "output_type": "stream",
     "text": [
      "-182976512\n",
      "===========x轴============\n",
      "[   50782248   261357096   746937840  1481911200 -1814748016]\n",
      "==============y轴==========\n",
      "[  19326120   43922336   23647680 -150801556  139015544]\n"
     ]
    }
   ],
   "source": [
    "x=np.array([[11,22,33,44,55],\n",
    "           [66,77,88,99,98],\n",
    "           [12,23,34,45,56],\n",
    "           [67,78,89,90,99],\n",
    "           [87,86,85,84,83]])\n",
    "y=np.prod(x)\n",
    "print(y)\n",
    "y=np.prod(x,axis=0)\n",
    "print('===========x轴============')\n",
    "print(y)\n",
    "print('==============y轴==========')\n",
    "y=np.prod(x,axis=1)\n",
    "print(y)"
   ]
  },
  {
   "cell_type": "code",
   "execution_count": 41,
   "metadata": {},
   "outputs": [
    {
     "name": "stdout",
     "output_type": "stream",
     "text": [
      "[         11         242        7986      351384    19326120  1275523920\n",
      "  -568905968  1475882368    83466368  -410230528  -627799040 -1554476032\n",
      " -1312577536  1063553024  -570572800   426328064 -1106149376   336953344\n",
      "   261029888    72155136  1982529536 -1301151744  1071251456  -209190912\n",
      "  -182976512]\n",
      "================x轴=-=============\n",
      "[[         11          22          33          44          55]\n",
      " [        726        1694        2904        4356        5390]\n",
      " [       8712       38962       98736      196020      301840]\n",
      " [     583704     3039036     8787504    17641800    29882160]\n",
      " [   50782248   261357096   746937840  1481911200 -1814748016]]\n",
      "=================y轴===============\n",
      "[[        11        242       7986     351384   19326120]\n",
      " [        66       5082     447216   44274384   43922336]\n",
      " [        12        276       9384     422280   23647680]\n",
      " [        67       5226     465114   41860260 -150801556]\n",
      " [        87       7482     635970   53421480  139015544]]\n"
     ]
    }
   ],
   "source": [
    "x=np.array([[11,22,33,44,55],\n",
    "           [66,77,88,99,98],\n",
    "           [12,23,34,45,56],\n",
    "           [67,78,89,90,99],\n",
    "           [87,86,85,84,83]])\n",
    "\n",
    "y=np.cumprod(x)\n",
    "print(y)\n",
    "print('================x轴=-=============')\n",
    "y=np.cumprod(x,axis=0)\n",
    "print(y)\n",
    "print('=================y轴===============')\n",
    "y=np.cumprod(x,axis=1)\n",
    "print(y)"
   ]
  },
  {
   "cell_type": "markdown",
   "metadata": {},
   "source": [
    "### numpy.diff差值\n",
    "- numpy.diff(a, n=1, axis=-1, prepend=np._NoValue, append=np._NoValue) Calculate the n-th discrete difference along the given axis.\n",
    "- a：输入矩阵\n",
    "- n：可选，代表要执行几次差值\n",
    "- axis：默认是最后一个"
   ]
  },
  {
   "cell_type": "code",
   "execution_count": 45,
   "metadata": {},
   "outputs": [
    {
     "name": "stdout",
     "output_type": "stream",
     "text": [
      "[[ 2  3  4  5]\n",
      " [ 6  9  8  9]\n",
      " [10 11 12 13]]\n",
      "===================\n",
      "[[ 1  1  1]\n",
      " [ 3 -1  1]\n",
      " [ 1  1  1]]\n",
      "================-====\n",
      "[[4 6 4 4]\n",
      " [4 2 4 4]]\n"
     ]
    }
   ],
   "source": [
    "A=np.arange(2,14).reshape((3,4))\n",
    "A[1,1]=9\n",
    "print(A)\n",
    "print('===================')\n",
    "print(np.diff(A))\n",
    "print('================-====')\n",
    "print(np.diff(A,axis=0))"
   ]
  },
  {
   "cell_type": "markdown",
   "metadata": {},
   "source": [
    "## 四舍五入\n",
    "- numpy.around(a, decimals=0, out=None)"
   ]
  },
  {
   "cell_type": "code",
   "execution_count": 47,
   "metadata": {},
   "outputs": [
    {
     "name": "stdout",
     "output_type": "stream",
     "text": [
      "[[1.3449908  4.77993765 1.55931241]\n",
      " [5.48566023 2.84619462 3.88413994]\n",
      " [2.06060411 1.93706877 5.80979413]]\n",
      "========================\n",
      "[[1. 5. 2.]\n",
      " [5. 3. 4.]\n",
      " [2. 2. 6.]]\n",
      "========================\n",
      "[[1.34 4.78 1.56]\n",
      " [5.49 2.85 3.88]\n",
      " [2.06 1.94 5.81]]\n"
     ]
    }
   ],
   "source": [
    "x=np.random.rand(3,3)*10\n",
    "print(x)\n",
    "print('========================')\n",
    "y=np.around(x)\n",
    "print(y)\n",
    "print('========================')\n",
    "y=np.around(x,decimals=2)\n",
    "print(y)"
   ]
  },
  {
   "cell_type": "markdown",
   "metadata": {},
   "source": [
    "### 上下限\n",
    "- numpy.ceil(x, * args, ** kwargs)  \n",
    "- numpy.floor(x, * args, ** kwargs)"
   ]
  },
  {
   "cell_type": "code",
   "execution_count": 50,
   "metadata": {},
   "outputs": [
    {
     "name": "stdout",
     "output_type": "stream",
     "text": [
      "[[9.55469037e+00 7.46074074e-01 6.66767878e+00]\n",
      " [4.21708963e+00 7.83560126e+00 1.21613124e+00]\n",
      " [7.49007737e+00 9.51476588e+00 5.20941262e-03]]\n",
      "===========================\n",
      "[[10.  1.  7.]\n",
      " [ 5.  8.  2.]\n",
      " [ 8. 10.  1.]]\n",
      "=-=-=-=-=-=-=-=-=-=-=-=-=-=-=-=-=-=-=-=-\n",
      "[[9. 0. 6.]\n",
      " [4. 7. 1.]\n",
      " [7. 9. 0.]]\n"
     ]
    }
   ],
   "source": [
    "x = np.random.rand(3, 3) * 10\n",
    "print(x)\n",
    "print('===========================')\n",
    "y = np.ceil(x)\n",
    "print(y)\n",
    "print('=-=-=-=-=-=-=-=-=-=-=-=-=-=-=-=-=-=-=-=-')\n",
    "y = np.floor(x)\n",
    "print(y)"
   ]
  },
  {
   "cell_type": "markdown",
   "metadata": {},
   "source": [
    "### 杂项  \n",
    "- numpy.clip(a, a_min, a_max, out=None, ** kwargs)"
   ]
  },
  {
   "cell_type": "code",
   "execution_count": 51,
   "metadata": {},
   "outputs": [
    {
     "name": "stdout",
     "output_type": "stream",
     "text": [
      "[[20 22 30 30 30]\n",
      " [30 30 30 30 30]\n",
      " [20 23 30 30 30]\n",
      " [30 30 30 30 30]\n",
      " [30 30 30 30 30]]\n"
     ]
    }
   ],
   "source": [
    "x=np.array([[11,22,33,44,55],\n",
    "           [66,77,88,99,98],\n",
    "           [12,23,34,45,56],\n",
    "           [67,78,89,90,99],\n",
    "           [87,86,85,84,83]])\n",
    "y = np.clip(x, a_min=20, a_max=30)\n",
    "print(y)"
   ]
  },
  {
   "cell_type": "markdown",
   "metadata": {},
   "source": [
    "- numpy.absolute(x, * args, ** kwargs)  \n",
    "- numpy.abs(x, * args, ** kwargs)  "
   ]
  },
  {
   "cell_type": "code",
   "execution_count": 53,
   "metadata": {},
   "outputs": [
    {
     "name": "stdout",
     "output_type": "stream",
     "text": [
      "[-5 -4 -3 -2 -1  0  1  2  3  4]\n"
     ]
    }
   ],
   "source": [
    "x=np.arange(-5,5)\n",
    "print(x)"
   ]
  },
  {
   "cell_type": "code",
   "execution_count": 54,
   "metadata": {},
   "outputs": [
    {
     "name": "stdout",
     "output_type": "stream",
     "text": [
      "[5 4 3 2 1 0 1 2 3 4]\n"
     ]
    }
   ],
   "source": [
    "y = np.abs(x)\n",
    "print(y)"
   ]
  },
  {
   "cell_type": "code",
   "execution_count": 55,
   "metadata": {},
   "outputs": [
    {
     "name": "stdout",
     "output_type": "stream",
     "text": [
      "[5 4 3 2 1 0 1 2 3 4]\n"
     ]
    }
   ],
   "source": [
    "y = np.absolute(x)\n",
    "print(y)"
   ]
  },
  {
   "cell_type": "markdown",
   "metadata": {},
   "source": [
    "### numpy.sign 返回数字符号的逐元素指示\n",
    "- numpy.sign(x, * args, ** kwargs)  "
   ]
  },
  {
   "cell_type": "code",
   "execution_count": 57,
   "metadata": {},
   "outputs": [
    {
     "name": "stdout",
     "output_type": "stream",
     "text": [
      "[-5 -4 -3 -2 -1  0  1  2  3  4]\n",
      "[-1 -1 -1 -1 -1  0  1  1  1  1]\n"
     ]
    }
   ],
   "source": [
    "x = np.arange(-5, 5)\n",
    "print(x)\n",
    "print(np.sign(x))"
   ]
  },
  {
   "cell_type": "markdown",
   "metadata": {},
   "source": [
    "##  逻辑函数\n",
    "- numpy.all(a, axis=None, out=None, keepdims=np._NoValue)  \n",
    "- numpy.any(a, axis=None, out=None, keepdims=np._NoValue)"
   ]
  },
  {
   "cell_type": "code",
   "execution_count": 58,
   "metadata": {},
   "outputs": [
    {
     "name": "stdout",
     "output_type": "stream",
     "text": [
      "True\n",
      "True\n"
     ]
    }
   ],
   "source": [
    "a = np.array([0, 4, 5])\n",
    "b = np.copy(a)\n",
    "print(np.all(a == b))  \n",
    "\n",
    "print(np.any(a == b))"
   ]
  },
  {
   "cell_type": "code",
   "execution_count": 59,
   "metadata": {},
   "outputs": [
    {
     "name": "stdout",
     "output_type": "stream",
     "text": [
      "False\n",
      "True\n"
     ]
    }
   ],
   "source": [
    "b[0] = 1\n",
    "print(np.all(a == b))   \n",
    "\n",
    "print(np.any(a == b)) "
   ]
  },
  {
   "cell_type": "code",
   "execution_count": 60,
   "metadata": {},
   "outputs": [
    {
     "name": "stdout",
     "output_type": "stream",
     "text": [
      "True\n",
      "True\n"
     ]
    }
   ],
   "source": [
    "print(np.all([1.0, np.nan]))  \n",
    "print(np.any([1.0, np.nan]))"
   ]
  },
  {
   "cell_type": "code",
   "execution_count": 61,
   "metadata": {},
   "outputs": [
    {
     "name": "stdout",
     "output_type": "stream",
     "text": [
      "[False False False]\n",
      "[ True  True  True]\n"
     ]
    }
   ],
   "source": [
    "a = np.eye(3)\n",
    "print(np.all(a, axis=0))   \n",
    "print(np.any(a, axis=0))  "
   ]
  },
  {
   "cell_type": "markdown",
   "metadata": {},
   "source": [
    "### 数组内容\n",
    "- numpy.isnan(x, * args, ** kwargs)"
   ]
  },
  {
   "cell_type": "code",
   "execution_count": 62,
   "metadata": {},
   "outputs": [
    {
     "name": "stdout",
     "output_type": "stream",
     "text": [
      "[False False  True]\n"
     ]
    }
   ],
   "source": [
    "a=np.array([1,2,np.nan])\n",
    "print(np.isnan(a))"
   ]
  },
  {
   "cell_type": "markdown",
   "metadata": {},
   "source": [
    "## 逻辑运算\n",
    "- numpy.logical_not(x, * args, ** kwargs) \n",
    "- numpy.logical_and(x1, x2, * args, ** kwargs)  \n",
    "- numpy.logical_or(x1, x2, * args, ** kwargs) \n",
    "- numpy.logical_xor(x1, x2, * args, ** kwargs)"
   ]
  },
  {
   "cell_type": "code",
   "execution_count": 63,
   "metadata": {},
   "outputs": [
    {
     "name": "stdout",
     "output_type": "stream",
     "text": [
      "False\n",
      "[False  True  True False]\n"
     ]
    }
   ],
   "source": [
    "print(np.logical_not(3))  \n",
    " \n",
    "print(np.logical_not([True, False, 0, 1]))"
   ]
  },
  {
   "cell_type": "code",
   "execution_count": 64,
   "metadata": {},
   "outputs": [
    {
     "name": "stdout",
     "output_type": "stream",
     "text": [
      "[False False False  True  True]\n"
     ]
    }
   ],
   "source": [
    "x = np.arange(5)\n",
    "print(np.logical_not(x < 3))"
   ]
  },
  {
   "cell_type": "code",
   "execution_count": 65,
   "metadata": {},
   "outputs": [
    {
     "name": "stdout",
     "output_type": "stream",
     "text": [
      "False\n",
      "[ True False]\n",
      "[False False  True  True False]\n"
     ]
    }
   ],
   "source": [
    "print(np.logical_and(True, False))  \n",
    " \n",
    "print(np.logical_and([True, False], [True, False]))\n",
    " \n",
    "print(np.logical_and(x > 1, x < 4))\n",
    " "
   ]
  },
  {
   "cell_type": "code",
   "execution_count": 66,
   "metadata": {},
   "outputs": [
    {
     "name": "stdout",
     "output_type": "stream",
     "text": [
      "True\n",
      "[ True False]\n",
      "[ True False False False  True]\n"
     ]
    }
   ],
   "source": [
    "print(np.logical_or(True, False))\n",
    " \n",
    "print(np.logical_or([True, False], [False, False]))\n",
    " \n",
    "print(np.logical_or(x < 1, x > 3))"
   ]
  },
  {
   "cell_type": "code",
   "execution_count": 67,
   "metadata": {},
   "outputs": [
    {
     "name": "stdout",
     "output_type": "stream",
     "text": [
      "True\n",
      "[False  True  True False]\n",
      "[ True False False False  True]\n",
      "[[ True False]\n",
      " [False  True]]\n"
     ]
    }
   ],
   "source": [
    "print(np.logical_xor(True, False))\n",
    " \n",
    "print(np.logical_xor([True, True, False, False], [True, False, True, False]))\n",
    " \n",
    "print(np.logical_xor(x < 1, x > 3))\n",
    " \n",
    "print(np.logical_xor(0, np.eye(2)))"
   ]
  },
  {
   "cell_type": "markdown",
   "metadata": {},
   "source": [
    "### 对照\n",
    "- numpy.greater(x1, x2, * args, ** kwargs)  \n",
    "- numpy.greater_equal(x1, x2, * args, ** kwargs)  \n",
    "- numpy.equal(x1, x2, * args, ** kwargs)  \n",
    "- numpy.not_equal(x1, x2, * args, ** kwargs)  \n",
    "- numpy.less(x1, x2, * args, ** kwargs)  \n",
    "- numpy.less_equal(x1, x2, * args, ** kwargs) "
   ]
  },
  {
   "cell_type": "code",
   "execution_count": 68,
   "metadata": {},
   "outputs": [
    {
     "name": "stdout",
     "output_type": "stream",
     "text": [
      "[False False  True  True  True  True  True  True]\n",
      "[False False  True  True  True  True  True  True]\n"
     ]
    }
   ],
   "source": [
    "x = np.array([1, 2, 3, 4, 5, 6, 7, 8])\n",
    "\n",
    "y = x > 2\n",
    "print(y)\n",
    "print(np.greater(x, 2))"
   ]
  },
  {
   "cell_type": "code",
   "execution_count": 69,
   "metadata": {},
   "outputs": [
    {
     "name": "stdout",
     "output_type": "stream",
     "text": [
      "[False  True  True  True  True  True  True  True]\n",
      "[False  True  True  True  True  True  True  True]\n"
     ]
    }
   ],
   "source": [
    "y = x >= 2\n",
    "print(y)\n",
    "print(np.greater_equal(x, 2))"
   ]
  },
  {
   "cell_type": "code",
   "execution_count": 70,
   "metadata": {},
   "outputs": [
    {
     "name": "stdout",
     "output_type": "stream",
     "text": [
      "[False  True False False False False False False]\n",
      "[False  True False False False False False False]\n"
     ]
    }
   ],
   "source": [
    "y = x == 2\n",
    "print(y)\n",
    "print(np.equal(x, 2))"
   ]
  },
  {
   "cell_type": "code",
   "execution_count": 71,
   "metadata": {},
   "outputs": [
    {
     "name": "stdout",
     "output_type": "stream",
     "text": [
      "[ True False  True  True  True  True  True  True]\n",
      "[ True False  True  True  True  True  True  True]\n"
     ]
    }
   ],
   "source": [
    "y = x != 2\n",
    "print(y)\n",
    "print(np.not_equal(x, 2))"
   ]
  },
  {
   "cell_type": "code",
   "execution_count": 72,
   "metadata": {},
   "outputs": [
    {
     "name": "stdout",
     "output_type": "stream",
     "text": [
      "[ True False False False False False False False]\n",
      "[ True False False False False False False False]\n"
     ]
    }
   ],
   "source": [
    "y = x < 2\n",
    "print(y)\n",
    "print(np.less(x, 2))"
   ]
  },
  {
   "cell_type": "code",
   "execution_count": 73,
   "metadata": {},
   "outputs": [
    {
     "name": "stdout",
     "output_type": "stream",
     "text": [
      "[ True  True False False False False False False]\n",
      "[ True  True False False False False False False]\n"
     ]
    }
   ],
   "source": [
    "y = x <= 2\n",
    "print(y)\n",
    "print(np.less_equal(x, 2))"
   ]
  },
  {
   "cell_type": "code",
   "execution_count": 76,
   "metadata": {},
   "outputs": [],
   "source": [
    "x=np.array([[11,22,33,44,55],\n",
    "           [66,77,88,99,98],\n",
    "           [12,23,34,45,56],\n",
    "           [67,78,89,90,99],\n",
    "           [87,86,85,84,83]])\n"
   ]
  },
  {
   "cell_type": "code",
   "execution_count": 77,
   "metadata": {},
   "outputs": [
    {
     "name": "stdout",
     "output_type": "stream",
     "text": [
      "[[False  True  True  True  True]\n",
      " [ True  True  True  True  True]\n",
      " [False  True  True  True  True]\n",
      " [ True  True  True  True  True]\n",
      " [ True  True  True  True  True]]\n",
      "[[False  True  True  True  True]\n",
      " [ True  True  True  True  True]\n",
      " [False  True  True  True  True]\n",
      " [ True  True  True  True  True]\n",
      " [ True  True  True  True  True]]\n"
     ]
    }
   ],
   "source": [
    "y = x > 20\n",
    "print(y)\n",
    "print(np.greater(x, 20))"
   ]
  },
  {
   "cell_type": "code",
   "execution_count": 78,
   "metadata": {},
   "outputs": [
    {
     "name": "stdout",
     "output_type": "stream",
     "text": [
      "[[False  True  True  True  True]\n",
      " [ True  True  True  True  True]\n",
      " [False  True  True  True  True]\n",
      " [ True  True  True  True  True]\n",
      " [ True  True  True  True  True]]\n",
      "[[False  True  True  True  True]\n",
      " [ True  True  True  True  True]\n",
      " [False  True  True  True  True]\n",
      " [ True  True  True  True  True]\n",
      " [ True  True  True  True  True]]\n"
     ]
    }
   ],
   "source": [
    "y = x >= 20\n",
    "print(y)\n",
    "print(np.greater_equal(x, 20))"
   ]
  },
  {
   "cell_type": "code",
   "execution_count": 79,
   "metadata": {},
   "outputs": [
    {
     "name": "stdout",
     "output_type": "stream",
     "text": [
      "[[False False False False False]\n",
      " [False False False False False]\n",
      " [False False False False False]\n",
      " [False False False False False]\n",
      " [False False False False False]]\n",
      "[[False False False False False]\n",
      " [False False False False False]\n",
      " [False False False False False]\n",
      " [False False False False False]\n",
      " [False False False False False]]\n"
     ]
    }
   ],
   "source": [
    "y = x == 20\n",
    "print(y)\n",
    "print(np.equal(x, 20))"
   ]
  },
  {
   "cell_type": "code",
   "execution_count": 80,
   "metadata": {},
   "outputs": [
    {
     "name": "stdout",
     "output_type": "stream",
     "text": [
      "[[ True  True  True  True  True]\n",
      " [ True  True  True  True  True]\n",
      " [ True  True  True  True  True]\n",
      " [ True  True  True  True  True]\n",
      " [ True  True  True  True  True]]\n",
      "[[ True  True  True  True  True]\n",
      " [ True  True  True  True  True]\n",
      " [ True  True  True  True  True]\n",
      " [ True  True  True  True  True]\n",
      " [ True  True  True  True  True]]\n"
     ]
    }
   ],
   "source": [
    "y = x != 20\n",
    "print(y)\n",
    "print(np.not_equal(x, 20))"
   ]
  },
  {
   "cell_type": "code",
   "execution_count": 81,
   "metadata": {},
   "outputs": [
    {
     "name": "stdout",
     "output_type": "stream",
     "text": [
      "[[ True False False False False]\n",
      " [False False False False False]\n",
      " [ True False False False False]\n",
      " [False False False False False]\n",
      " [False False False False False]]\n",
      "[[ True False False False False]\n",
      " [False False False False False]\n",
      " [ True False False False False]\n",
      " [False False False False False]\n",
      " [False False False False False]]\n"
     ]
    }
   ],
   "source": [
    "y = x < 20\n",
    "print(y)\n",
    "print(np.less(x, 20))"
   ]
  },
  {
   "cell_type": "code",
   "execution_count": 82,
   "metadata": {},
   "outputs": [
    {
     "name": "stdout",
     "output_type": "stream",
     "text": [
      "[[ True False False False False]\n",
      " [False False False False False]\n",
      " [ True False False False False]\n",
      " [False False False False False]\n",
      " [False False False False False]]\n",
      "[[ True False False False False]\n",
      " [False False False False False]\n",
      " [ True False False False False]\n",
      " [False False False False False]\n",
      " [False False False False False]]\n"
     ]
    }
   ],
   "source": [
    "y = x <= 20\n",
    "print(y)\n",
    "print(np.less_equal(x, 20))"
   ]
  },
  {
   "cell_type": "code",
   "execution_count": 84,
   "metadata": {},
   "outputs": [],
   "source": [
    "np.random.seed(920200611)\n",
    "x=np.array([[11,22,33,44,55],\n",
    "           [66,77,88,99,98],\n",
    "           [12,23,34,45,56],\n",
    "           [67,78,89,90,99],\n",
    "           [87,86,85,84,83]])\n"
   ]
  },
  {
   "cell_type": "code",
   "execution_count": 85,
   "metadata": {},
   "outputs": [
    {
     "name": "stdout",
     "output_type": "stream",
     "text": [
      "[[17 32 14 29 14]\n",
      " [28 33 36 14 37]\n",
      " [21 34 24 20 28]\n",
      " [21 23 27 25 26]\n",
      " [25 30 15 25 37]]\n"
     ]
    }
   ],
   "source": [
    "y = np.random.randint(10, 40, [5, 5])\n",
    "print(y)"
   ]
  },
  {
   "cell_type": "code",
   "execution_count": 86,
   "metadata": {},
   "outputs": [
    {
     "name": "stdout",
     "output_type": "stream",
     "text": [
      "[[False False  True  True  True]\n",
      " [ True  True  True  True  True]\n",
      " [False False  True  True  True]\n",
      " [ True  True  True  True  True]\n",
      " [ True  True  True  True  True]]\n",
      "[[False False  True  True  True]\n",
      " [ True  True  True  True  True]\n",
      " [False False  True  True  True]\n",
      " [ True  True  True  True  True]\n",
      " [ True  True  True  True  True]]\n"
     ]
    }
   ],
   "source": [
    "z = x > y\n",
    "print(z)\n",
    "print(np.greater(x, y))"
   ]
  },
  {
   "cell_type": "code",
   "execution_count": 87,
   "metadata": {},
   "outputs": [
    {
     "name": "stdout",
     "output_type": "stream",
     "text": [
      "[[False False  True  True  True]\n",
      " [ True  True  True  True  True]\n",
      " [False False  True  True  True]\n",
      " [ True  True  True  True  True]\n",
      " [ True  True  True  True  True]]\n",
      "[[False False  True  True  True]\n",
      " [ True  True  True  True  True]\n",
      " [False False  True  True  True]\n",
      " [ True  True  True  True  True]\n",
      " [ True  True  True  True  True]]\n"
     ]
    }
   ],
   "source": [
    "z = x >= y\n",
    "print(z)\n",
    "print(np.greater_equal(x, y))"
   ]
  },
  {
   "cell_type": "code",
   "execution_count": 88,
   "metadata": {},
   "outputs": [
    {
     "name": "stdout",
     "output_type": "stream",
     "text": [
      "[[False False False False False]\n",
      " [False False False False False]\n",
      " [False False False False False]\n",
      " [False False False False False]\n",
      " [False False False False False]]\n",
      "[[False False False False False]\n",
      " [False False False False False]\n",
      " [False False False False False]\n",
      " [False False False False False]\n",
      " [False False False False False]]\n"
     ]
    }
   ],
   "source": [
    "z = x == y\n",
    "print(z)\n",
    "print(np.equal(x, y))"
   ]
  },
  {
   "cell_type": "code",
   "execution_count": 89,
   "metadata": {},
   "outputs": [
    {
     "name": "stdout",
     "output_type": "stream",
     "text": [
      "[[ True  True  True  True  True]\n",
      " [ True  True  True  True  True]\n",
      " [ True  True  True  True  True]\n",
      " [ True  True  True  True  True]\n",
      " [ True  True  True  True  True]]\n",
      "[[ True  True  True  True  True]\n",
      " [ True  True  True  True  True]\n",
      " [ True  True  True  True  True]\n",
      " [ True  True  True  True  True]\n",
      " [ True  True  True  True  True]]\n"
     ]
    }
   ],
   "source": [
    "z = x != y\n",
    "print(z)\n",
    "print(np.not_equal(x, y))"
   ]
  },
  {
   "cell_type": "code",
   "execution_count": 90,
   "metadata": {},
   "outputs": [
    {
     "name": "stdout",
     "output_type": "stream",
     "text": [
      "[[ True  True False False False]\n",
      " [False False False False False]\n",
      " [ True  True False False False]\n",
      " [False False False False False]\n",
      " [False False False False False]]\n",
      "[[ True  True False False False]\n",
      " [False False False False False]\n",
      " [ True  True False False False]\n",
      " [False False False False False]\n",
      " [False False False False False]]\n"
     ]
    }
   ],
   "source": [
    "z = x < y\n",
    "print(z)\n",
    "print(np.less(x, y))"
   ]
  },
  {
   "cell_type": "code",
   "execution_count": 91,
   "metadata": {},
   "outputs": [
    {
     "name": "stdout",
     "output_type": "stream",
     "text": [
      "[[ True  True False False False]\n",
      " [False False False False False]\n",
      " [ True  True False False False]\n",
      " [False False False False False]\n",
      " [False False False False False]]\n",
      "[[ True  True False False False]\n",
      " [False False False False False]\n",
      " [ True  True False False False]\n",
      " [False False False False False]\n",
      " [False False False False False]]\n"
     ]
    }
   ],
   "source": [
    "z = x <= y\n",
    "print(z)\n",
    "print(np.less_equal(x, y))"
   ]
  },
  {
   "cell_type": "code",
   "execution_count": 92,
   "metadata": {},
   "outputs": [],
   "source": [
    "np.random.seed(920200611)\n",
    "x=np.array([[11,22,33,44,55],\n",
    "           [66,77,88,99,98],\n",
    "           [12,23,34,45,56],\n",
    "           [67,78,89,90,99],\n",
    "           [87,86,85,84,83]])\n"
   ]
  },
  {
   "cell_type": "code",
   "execution_count": 93,
   "metadata": {},
   "outputs": [
    {
     "name": "stdout",
     "output_type": "stream",
     "text": [
      "[32 37 30 24 10]\n"
     ]
    }
   ],
   "source": [
    "np.random.seed(20200611)\n",
    "y = np.random.randint(10, 50, 5)\n",
    "\n",
    "print(y)"
   ]
  },
  {
   "cell_type": "code",
   "execution_count": 94,
   "metadata": {},
   "outputs": [
    {
     "name": "stdout",
     "output_type": "stream",
     "text": [
      "[[False False  True  True  True]\n",
      " [ True  True  True  True  True]\n",
      " [False False  True  True  True]\n",
      " [ True  True  True  True  True]\n",
      " [ True  True  True  True  True]]\n",
      "[[False False  True  True  True]\n",
      " [ True  True  True  True  True]\n",
      " [False False  True  True  True]\n",
      " [ True  True  True  True  True]\n",
      " [ True  True  True  True  True]]\n"
     ]
    }
   ],
   "source": [
    "z = x > y\n",
    "print(z)\n",
    "print(np.greater(x, y))"
   ]
  },
  {
   "cell_type": "code",
   "execution_count": 95,
   "metadata": {},
   "outputs": [
    {
     "name": "stdout",
     "output_type": "stream",
     "text": [
      "[[False False  True  True  True]\n",
      " [ True  True  True  True  True]\n",
      " [False False  True  True  True]\n",
      " [ True  True  True  True  True]\n",
      " [ True  True  True  True  True]]\n",
      "[[False False  True  True  True]\n",
      " [ True  True  True  True  True]\n",
      " [False False  True  True  True]\n",
      " [ True  True  True  True  True]\n",
      " [ True  True  True  True  True]]\n"
     ]
    }
   ],
   "source": [
    "z = x >= y\n",
    "print(z)\n",
    "print(np.greater_equal(x, y))"
   ]
  },
  {
   "cell_type": "code",
   "execution_count": 96,
   "metadata": {},
   "outputs": [
    {
     "name": "stdout",
     "output_type": "stream",
     "text": [
      "[[False False False False False]\n",
      " [False False False False False]\n",
      " [False False False False False]\n",
      " [False False False False False]\n",
      " [False False False False False]]\n",
      "[[False False False False False]\n",
      " [False False False False False]\n",
      " [False False False False False]\n",
      " [False False False False False]\n",
      " [False False False False False]]\n"
     ]
    }
   ],
   "source": [
    "z = x == y\n",
    "print(z)\n",
    "print(np.equal(x, y))"
   ]
  },
  {
   "cell_type": "code",
   "execution_count": 97,
   "metadata": {},
   "outputs": [
    {
     "name": "stdout",
     "output_type": "stream",
     "text": [
      "[[ True  True  True  True  True]\n",
      " [ True  True  True  True  True]\n",
      " [ True  True  True  True  True]\n",
      " [ True  True  True  True  True]\n",
      " [ True  True  True  True  True]]\n",
      "[[ True  True  True  True  True]\n",
      " [ True  True  True  True  True]\n",
      " [ True  True  True  True  True]\n",
      " [ True  True  True  True  True]\n",
      " [ True  True  True  True  True]]\n"
     ]
    }
   ],
   "source": [
    "z = x != y\n",
    "print(z)\n",
    "print(np.not_equal(x, y))"
   ]
  },
  {
   "cell_type": "code",
   "execution_count": 98,
   "metadata": {},
   "outputs": [
    {
     "name": "stdout",
     "output_type": "stream",
     "text": [
      "[[ True  True False False False]\n",
      " [False False False False False]\n",
      " [ True  True False False False]\n",
      " [False False False False False]\n",
      " [False False False False False]]\n",
      "[[ True  True False False False]\n",
      " [False False False False False]\n",
      " [ True  True False False False]\n",
      " [False False False False False]\n",
      " [False False False False False]]\n"
     ]
    }
   ],
   "source": [
    "z = x < y\n",
    "print(z)\n",
    "print(np.less(x, y))"
   ]
  },
  {
   "cell_type": "code",
   "execution_count": 99,
   "metadata": {},
   "outputs": [
    {
     "name": "stdout",
     "output_type": "stream",
     "text": [
      "[[ True  True False False False]\n",
      " [False False False False False]\n",
      " [ True  True False False False]\n",
      " [False False False False False]\n",
      " [False False False False False]]\n",
      "[[ True  True False False False]\n",
      " [False False False False False]\n",
      " [ True  True False False False]\n",
      " [False False False False False]\n",
      " [False False False False False]]\n"
     ]
    }
   ],
   "source": [
    "z = x <= y\n",
    "print(z)\n",
    "print(np.less_equal(x, y))\n"
   ]
  },
  {
   "cell_type": "markdown",
   "metadata": {},
   "source": [
    "- numpy.isclose(a, b, rtol=1.e-5, atol=1.e-8, equal_nan=False)  \n",
    "- numpy.allclose(a, b, rtol=1.e-5, atol=1.e-8, equal_nan=False) \n",
    "- numpy.allclose() 等价于 numpy.all(isclose(a, b, rtol=rtol, atol=atol, equal_nan=equal_nan))。"
   ]
  },
  {
   "cell_type": "code",
   "execution_count": 100,
   "metadata": {},
   "outputs": [
    {
     "name": "stdout",
     "output_type": "stream",
     "text": [
      "[ True False]\n"
     ]
    }
   ],
   "source": [
    "x = np.isclose([1e10, 1e-7], [1.00001e10, 1e-8])\n",
    "print(x)   "
   ]
  },
  {
   "cell_type": "code",
   "execution_count": 101,
   "metadata": {},
   "outputs": [
    {
     "name": "stdout",
     "output_type": "stream",
     "text": [
      "False\n"
     ]
    }
   ],
   "source": [
    "x = np.allclose([1e10, 1e-7], [1.00001e10, 1e-8])\n",
    "print(x) "
   ]
  },
  {
   "cell_type": "code",
   "execution_count": 102,
   "metadata": {},
   "outputs": [
    {
     "name": "stdout",
     "output_type": "stream",
     "text": [
      "[ True  True]\n"
     ]
    }
   ],
   "source": [
    "x = np.isclose([1e10, 1e-8], [1.00001e10, 1e-9])\n",
    "print(x)"
   ]
  },
  {
   "cell_type": "code",
   "execution_count": 103,
   "metadata": {},
   "outputs": [
    {
     "name": "stdout",
     "output_type": "stream",
     "text": [
      "True\n"
     ]
    }
   ],
   "source": [
    "x = np.allclose([1e10, 1e-8], [1.00001e10, 1e-9])\n",
    "print(x)"
   ]
  },
  {
   "cell_type": "code",
   "execution_count": 104,
   "metadata": {},
   "outputs": [
    {
     "name": "stdout",
     "output_type": "stream",
     "text": [
      "[False  True]\n"
     ]
    }
   ],
   "source": [
    "x = np.isclose([1e10, 1e-8], [1.0001e10, 1e-9])\n",
    "print(x)"
   ]
  },
  {
   "cell_type": "code",
   "execution_count": 105,
   "metadata": {},
   "outputs": [
    {
     "name": "stdout",
     "output_type": "stream",
     "text": [
      "False\n"
     ]
    }
   ],
   "source": [
    "x = np.allclose([1e10, 1e-8], [1.0001e10, 1e-9])\n",
    "print(x)  "
   ]
  },
  {
   "cell_type": "code",
   "execution_count": 106,
   "metadata": {},
   "outputs": [
    {
     "name": "stdout",
     "output_type": "stream",
     "text": [
      "[ True False]\n"
     ]
    }
   ],
   "source": [
    "x = np.isclose([1.0, np.nan], [1.0, np.nan])\n",
    "print(x) "
   ]
  },
  {
   "cell_type": "code",
   "execution_count": 107,
   "metadata": {},
   "outputs": [
    {
     "name": "stdout",
     "output_type": "stream",
     "text": [
      "False\n"
     ]
    }
   ],
   "source": [
    "x = np.allclose([1.0, np.nan], [1.0, np.nan])\n",
    "print(x)"
   ]
  },
  {
   "cell_type": "code",
   "execution_count": 108,
   "metadata": {},
   "outputs": [
    {
     "name": "stdout",
     "output_type": "stream",
     "text": [
      "[ True  True]\n"
     ]
    }
   ],
   "source": [
    "x = np.isclose([1.0, np.nan], [1.0, np.nan], equal_nan=True)\n",
    "print(x) "
   ]
  },
  {
   "cell_type": "code",
   "execution_count": 109,
   "metadata": {},
   "outputs": [
    {
     "name": "stdout",
     "output_type": "stream",
     "text": [
      "True\n"
     ]
    }
   ],
   "source": [
    "x = np.allclose([1.0, np.nan], [1.0, np.nan], equal_nan=True)\n",
    "print(x) "
   ]
  },
  {
   "cell_type": "code",
   "execution_count": null,
   "metadata": {},
   "outputs": [],
   "source": []
  }
 ],
 "metadata": {
  "kernelspec": {
   "display_name": "Python 3",
   "language": "python",
   "name": "python3"
  },
  "language_info": {
   "codemirror_mode": {
    "name": "ipython",
    "version": 3
   },
   "file_extension": ".py",
   "mimetype": "text/x-python",
   "name": "python",
   "nbconvert_exporter": "python",
   "pygments_lexer": "ipython3",
   "version": "3.8.3"
  }
 },
 "nbformat": 4,
 "nbformat_minor": 4
}
