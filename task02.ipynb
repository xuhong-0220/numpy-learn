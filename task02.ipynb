{
 "cells": [
  {
   "cell_type": "markdown",
   "metadata": {},
   "source": [
    "# 副本与视图"
   ]
  },
  {
   "cell_type": "code",
   "execution_count": 1,
   "metadata": {},
   "outputs": [],
   "source": [
    "import numpy as np"
   ]
  },
  {
   "cell_type": "markdown",
   "metadata": {},
   "source": [
    "在numpy中，尤其是做数组运算或数组操作时，返回结果不是$ 副本 $就是 $ 视图 $\n",
    "\n",
    "在numpy中，所有赋值运算不会为数组和数组中的任何元素创建副本\n",
    "- numpy.ndarray.copy()函数创建一个副本，对副本数据进行修改，不会影响到原始数据。它们的物理内存不再同一个位置\n"
   ]
  },
  {
   "cell_type": "code",
   "execution_count": 2,
   "metadata": {},
   "outputs": [
    {
     "name": "stdout",
     "output_type": "stream",
     "text": [
      "[-1  2  3  4  5  6  7  8  9]\n",
      "[-1  2  3  4  5  6  7  8  9]\n"
     ]
    }
   ],
   "source": [
    "x=np.array([1,2,3,4,5,6,7,8,9])\n",
    "y=x\n",
    "y[0]=-1\n",
    "print(x)\n",
    "print(y)\n"
   ]
  },
  {
   "cell_type": "markdown",
   "metadata": {},
   "source": [
    "这里的数组操作是赋值运算，所以没有为这个操作创一个副本，使用的是同一个数据，在修改其中一个数组时，原始的数据也发生了改变"
   ]
  },
  {
   "cell_type": "code",
   "execution_count": 3,
   "metadata": {},
   "outputs": [
    {
     "name": "stdout",
     "output_type": "stream",
     "text": [
      "[1 2 3 4 5 6 7 8 9]\n",
      "[-1  2  3  4  5  6  7  8  9]\n"
     ]
    }
   ],
   "source": [
    "x=np.array([1,2,3,4,5,6,7,8,9])\n",
    "y=x.copy()\n",
    "y[0]=-1\n",
    "print(x)\n",
    "print(y)"
   ]
  },
  {
   "cell_type": "markdown",
   "metadata": {},
   "source": [
    ".copy()函数时复制一个副本，所以在进行修改元素的时候，原始数据没有发生改变，改变的是创建的副本"
   ]
  },
  {
   "cell_type": "code",
   "execution_count": 4,
   "metadata": {},
   "outputs": [
    {
     "name": "stdout",
     "output_type": "stream",
     "text": [
      "[[-1 22 -1 44 55]\n",
      " [21 22 23 34 45]\n",
      " [-1 78 -1 56 77]\n",
      " [10 20 30 40 50]\n",
      " [-1 70 -1 90 99]]\n",
      "======================\n",
      "[[-1 22 -1 44 55]\n",
      " [21 22 23 34 45]\n",
      " [-1 78 -1 56 77]\n",
      " [10 20 30 40 50]\n",
      " [-1 70 -1 90 99]]\n"
     ]
    }
   ],
   "source": [
    "x=np.array([[11,22,33,44,55],\n",
    "           [21,22,23,34,45],\n",
    "           [89,78,67,56,77],\n",
    "           [10,20,30,40,50],\n",
    "           [60,70,80,90,99]])\n",
    "y=x\n",
    "y[::2,:3:2]=-1\n",
    "print(x)\n",
    "print('======================')\n",
    "print(y)"
   ]
  },
  {
   "cell_type": "code",
   "execution_count": 5,
   "metadata": {},
   "outputs": [
    {
     "name": "stdout",
     "output_type": "stream",
     "text": [
      "[[11 22 33 44 55]\n",
      " [21 22 23 34 45]\n",
      " [89 78 67 56 77]\n",
      " [10 20 30 40 50]\n",
      " [60 70 80 90 99]]\n",
      "======================\n",
      "[[-1 22 -1 44 55]\n",
      " [21 22 23 34 45]\n",
      " [-1 78 -1 56 77]\n",
      " [10 20 30 40 50]\n",
      " [-1 70 -1 90 99]]\n"
     ]
    }
   ],
   "source": [
    "x=np.array([[11,22,33,44,55],\n",
    "           [21,22,23,34,45],\n",
    "           [89,78,67,56,77],\n",
    "           [10,20,30,40,50],\n",
    "           [60,70,80,90,99]])\n",
    "y=x.copy()\n",
    "y[::2,:3:2]=-1\n",
    "print(x)\n",
    "print('======================')\n",
    "print(y)"
   ]
  },
  {
   "cell_type": "markdown",
   "metadata": {},
   "source": [
    "## 索引与切片\n",
    "数组中的引用是([]),引用单个数组元素，可以改查，\n",
    "### 整数索引"
   ]
  },
  {
   "cell_type": "code",
   "execution_count": 6,
   "metadata": {},
   "outputs": [
    {
     "name": "stdout",
     "output_type": "stream",
     "text": [
      "一维数组： 3\n",
      "二维数组： [89 78 67 56 77]\n",
      "二维数组2： 56\n",
      "二维数组3： 56\n"
     ]
    }
   ],
   "source": [
    "x=np.array([1,2,3,4,5,6,7,8])\n",
    "print('一维数组：',x[2])\n",
    "x=np.array([[11,22,33,44,55],\n",
    "           [21,22,23,34,45],\n",
    "           [89,78,67,56,77],\n",
    "           [10,20,30,40,50],\n",
    "           [60,70,80,90,99]])\n",
    "print('二维数组：',x[2])\n",
    "print('二维数组2：',x[2][3])\n",
    "print('二维数组3：',x[2,3])"
   ]
  },
  {
   "cell_type": "markdown",
   "metadata": {},
   "source": [
    "- 如果引用的是一维数组，([2]),代表引用的是数组的第三个元素，数组的排序从0开始\n",
    "- 如果是二维数组([2]),代表的是引用第三维的一组数据，同样也是从0开始计数\n",
    "- 在二维数组中([2][3])和([2,3])的索引位置一样，取回的数值也是一样的"
   ]
  },
  {
   "cell_type": "markdown",
   "metadata": {},
   "source": [
    "### 切片索引\n",
    "切片操作是指抽取数组的一部分元素生成新的数组，对 python 列表进行切片操作得到的数组是原数组的副本，而对 Numpy 数据进行切片操作得到的数组则是指向相同缓冲区的视图\n",
    "\n",
    "如果想抽取（或查看）数组的一部分，必须使用切片语法，也就是，把几个用冒号( start:stop:step )隔开的数字置于方括号内。\n",
    "\n",
    "为了更好地理解切片语法，还应该了解不明确指明起始和结束位置的情况。如省去第一个数字，numpy 会认为第一个数字是0；如省去第二个数字，numpy 则会认为第二个数字是数组的最大索引值；如省去最后一个数字，它将会被理解为1，也就是抽取所有元素而不再考虑间隔。"
   ]
  },
  {
   "cell_type": "code",
   "execution_count": 7,
   "metadata": {},
   "outputs": [
    {
     "name": "stdout",
     "output_type": "stream",
     "text": [
      "取索引位置为0和2: [1 2]\n",
      "隔一个取一个: [1 3 5 7]\n",
      "取第二个往后的所有元素： [3 4 5 6 7 8 9]\n",
      "取倒数两个元素： [8 9]\n",
      "取前两个元素： [1 2]\n",
      "取到倒数两个元素前的所有元素： [1 2 3 4 5 6 7]\n",
      "取出所有元素： [1 2 3 4 5 6 7 8 9]\n"
     ]
    }
   ],
   "source": [
    "x=np.array([1,2,3,4,5,6,7,8,9])\n",
    "print('取索引位置为0和2:',x[0:2])\n",
    "print('隔一个取一个:',x[0:8:2])\n",
    "print('取第二个往后的所有元素：',x[2:])\n",
    "print('取倒数两个元素：',x[-2:])\n",
    "print('取前两个元素：',x[:2])\n",
    "print('取到倒数两个元素前的所有元素：',x[:-2])\n",
    "print('取出所有元素：',x[:])"
   ]
  },
  {
   "cell_type": "code",
   "execution_count": 8,
   "metadata": {},
   "outputs": [
    {
     "name": "stdout",
     "output_type": "stream",
     "text": [
      "取前两行数据: [[11 22 33 44 55]\n",
      " [21 22 23 34 45]]\n",
      "取奇数行的数据 [[11 22 33 44 55]\n",
      " [89 78 67 56 77]\n",
      " [60 70 80 90 99]]\n",
      "取前两行： [[11 22 33 44 55]\n",
      " [21 22 23 34 45]]\n",
      "取后两行： [[10 20 30 40 50]\n",
      " [60 70 80 90 99]]\n",
      "取所有： [[11 22 33 44 55]\n",
      " [21 22 23 34 45]\n",
      " [89 78 67 56 77]\n",
      " [10 20 30 40 50]\n",
      " [60 70 80 90 99]]\n",
      "==================================\n",
      "抽取第三行数据： [89 78 67 56 77]\n",
      "抽取第三列数据 [33 23 67 30 80]\n",
      "奇数行奇数列的数据： [[11 33 55]\n",
      " [89 67 77]\n",
      " [60 80 99]]\n",
      "倒序读取数据(维) [[60 70 80 90 99]\n",
      " [10 20 30 40 50]\n",
      " [89 78 67 56 77]\n",
      " [21 22 23 34 45]\n",
      " [11 22 33 44 55]]\n",
      "倒序读取数据(元素) [[55 44 33 22 11]\n",
      " [45 34 23 22 21]\n",
      " [77 56 67 78 89]\n",
      " [50 40 30 20 10]\n",
      " [99 90 80 70 60]]\n",
      "倒序读取数据(维和元素) [[99 90 80 70 60]\n",
      " [50 40 30 20 10]\n",
      " [77 56 67 78 89]\n",
      " [45 34 23 22 21]\n",
      " [55 44 33 22 11]]\n"
     ]
    }
   ],
   "source": [
    "x=np.array([[11,22,33,44,55],\n",
    "           [21,22,23,34,45],\n",
    "           [89,78,67,56,77],\n",
    "           [10,20,30,40,50],\n",
    "           [60,70,80,90,99]])\n",
    "print('取前两行数据:',x[0:2])\n",
    "print('取奇数行的数据',x[0:5:2])\n",
    "print('取前两行：',x[:2])\n",
    "print('取后两行：',x[-2:])\n",
    "print('取所有：',x[:])\n",
    "\n",
    "print('==================================')\n",
    "print('抽取第三行数据：',x[2, :])\n",
    "print('抽取第三列数据',x[:, 2])\n",
    "print('奇数行奇数列的数据：',x[::2, ::2])\n",
    "print('倒序读取数据(维)',x[::-1, :])\n",
    "print('倒序读取数据(元素)',x[:, ::-1])\n",
    "print('倒序读取数据(维和元素)',x[::-1, ::-1])"
   ]
  },
  {
   "cell_type": "code",
   "execution_count": 9,
   "metadata": {},
   "outputs": [
    {
     "name": "stdout",
     "output_type": "stream",
     "text": [
      "[[11  0 33 44  0]\n",
      " [21 22 23 34 45]\n",
      " [89  0 67 56  0]\n",
      " [10 20 30 40 50]\n",
      " [60  0 80 90  0]]\n"
     ]
    }
   ],
   "source": [
    "x=np.array([[11,22,33,44,55],\n",
    "           [21,22,23,34,45],\n",
    "           [89,78,67,56,77],\n",
    "           [10,20,30,40,50],\n",
    "           [60,70,80,90,99]])\n",
    "x[0::2,1::3]=0\n",
    "# 取奇数行，选中的维从第二列到最后，步长位3的元素设置为0\n",
    "print(x)"
   ]
  },
  {
   "cell_type": "markdown",
   "metadata": {},
   "source": [
    "### dots索引\n",
    "numpy允许使用...表示足够多的冒号来构建完整的索引表\n",
    "- x[1,2,...]等于x[1,2,:,:,:]\n",
    "- x[...,3]等于x[:,:,:,:,3]\n",
    "- x[4,...5,:]等于x[4,:,:,5,:]"
   ]
  },
  {
   "cell_type": "code",
   "execution_count": 10,
   "metadata": {},
   "outputs": [
    {
     "name": "stdout",
     "output_type": "stream",
     "text": [
      "[[[63  4 90]\n",
      "  [96  1 96]]\n",
      "\n",
      " [[49 49  8]\n",
      "  [23 83 63]]]\n"
     ]
    }
   ],
   "source": [
    "x=np.random.randint(1,100,[2,2,3])\n",
    "print(x)"
   ]
  },
  {
   "cell_type": "code",
   "execution_count": 11,
   "metadata": {},
   "outputs": [
    {
     "name": "stdout",
     "output_type": "stream",
     "text": [
      "[[49 49  8]\n",
      " [23 83 63]]\n"
     ]
    }
   ],
   "source": [
    "print(x[1,...])"
   ]
  },
  {
   "cell_type": "code",
   "execution_count": 12,
   "metadata": {},
   "outputs": [
    {
     "name": "stdout",
     "output_type": "stream",
     "text": [
      "[[90 96]\n",
      " [ 8 63]]\n"
     ]
    }
   ],
   "source": [
    "print(x[...,2])"
   ]
  },
  {
   "cell_type": "markdown",
   "metadata": {},
   "source": [
    "### 整数数组索引"
   ]
  },
  {
   "cell_type": "code",
   "execution_count": 13,
   "metadata": {},
   "outputs": [
    {
     "name": "stdout",
     "output_type": "stream",
     "text": [
      "[1 2 3]\n",
      "===============\n",
      "[1 2 8]\n"
     ]
    }
   ],
   "source": [
    "x=np.array([1,2,3,4,5,6,7,8])\n",
    "r=[0,1,2]\n",
    "print(x[r])\n",
    "print('===============')\n",
    "r=[0,1,-1]\n",
    "print(x[r])\n"
   ]
  },
  {
   "cell_type": "code",
   "execution_count": 14,
   "metadata": {},
   "outputs": [
    {
     "name": "stdout",
     "output_type": "stream",
     "text": [
      "[[11 22 33 44 55]\n",
      " [21 22 23 34 45]\n",
      " [89 78 67 56 77]]\n",
      "[[[[[[[[[[[[[[[==========]]]]]]]]]]]]]]]\n",
      "[[11 22 33 44 55]\n",
      " [21 22 23 34 45]\n",
      " [60 70 80 90 99]]\n",
      "==============================\n",
      "[33 34 77]\n"
     ]
    }
   ],
   "source": [
    "x=np.array([[11,22,33,44,55],\n",
    "           [21,22,23,34,45],\n",
    "           [89,78,67,56,77],\n",
    "           [10,20,30,40,50],\n",
    "           [60,70,80,90,99]])\n",
    "r=[0,1,2]\n",
    "print(x[r])\n",
    "print('[[[[[[[[[[[[[[[==========]]]]]]]]]]]]]]]')\n",
    "r=[0,1,-1]\n",
    "print(x[r])\n",
    "print('==============================')\n",
    "r=[0,1,2]\n",
    "c=[2,3,4]\n",
    "print(x[r,c])\n",
    "# 这里输出的结果和上面的异曲同工，一个确定行一个确定列，共同锁定元素"
   ]
  },
  {
   "cell_type": "code",
   "execution_count": 15,
   "metadata": {},
   "outputs": [
    {
     "name": "stdout",
     "output_type": "stream",
     "text": [
      "[[1 2]\n",
      " [4 5]]\n"
     ]
    }
   ],
   "source": [
    "x=np.array([1,2,3,4,5,6,7,8])\n",
    "r=np.array([[0,1],[3,4]])\n",
    "print(x[r])\n",
    "# 异曲同工异曲同工"
   ]
  },
  {
   "cell_type": "code",
   "execution_count": 16,
   "metadata": {},
   "outputs": [
    {
     "name": "stdout",
     "output_type": "stream",
     "text": [
      "[[[11 22 33 44 55]\n",
      "  [21 22 23 34 45]]\n",
      "\n",
      " [[10 20 30 40 50]\n",
      "  [60 70 80 90 99]]]\n",
      "=========================\n",
      "[[11 55]\n",
      " [60 99]]\n"
     ]
    }
   ],
   "source": [
    "x=np.array([[11,22,33,44,55],\n",
    "           [21,22,23,34,45],\n",
    "           [89,78,67,56,77],\n",
    "           [10,20,30,40,50],\n",
    "           [60,70,80,90,99]])\n",
    "r=np.array([[0,1],[3,4]])\n",
    "print(x[r])\n",
    "print('=========================')\n",
    "r=np.array([[0,0],[4,4]])\n",
    "c=np.array([[0,4],[0,4]])\n",
    "print(x[r,c])"
   ]
  },
  {
   "cell_type": "code",
   "execution_count": 17,
   "metadata": {},
   "outputs": [
    {
     "name": "stdout",
     "output_type": "stream",
     "text": [
      "[[22 33 33]\n",
      " [22 23 23]\n",
      " [78 67 67]]\n"
     ]
    }
   ],
   "source": [
    "x=np.array([[11,22,33,44,55],\n",
    "           [21,22,23,34,45],\n",
    "           [89,78,67,56,77],\n",
    "           [10,20,30,40,50],\n",
    "           [60,70,80,90,99]])\n",
    "y=x[0:3,[1,2,2]]\n",
    "print(y)\n",
    "# 前面确定行，后面确定列"
   ]
  },
  {
   "cell_type": "markdown",
   "metadata": {},
   "source": [
    "- numpy.take()函数沿轴取值"
   ]
  },
  {
   "cell_type": "code",
   "execution_count": 18,
   "metadata": {},
   "outputs": [
    {
     "name": "stdout",
     "output_type": "stream",
     "text": [
      "[1 2 3]\n",
      "============\n",
      "[1 2 8]\n"
     ]
    }
   ],
   "source": [
    "x=np.array([1,2,3,4,5,6,7,8])\n",
    "r=[0,1,2]\n",
    "print(np.take(x,r))\n",
    "print('============')\n",
    "r=[0,1,-1]\n",
    "print(np.take(x,r))\n"
   ]
  },
  {
   "cell_type": "code",
   "execution_count": 19,
   "metadata": {},
   "outputs": [
    {
     "name": "stdout",
     "output_type": "stream",
     "text": [
      "[[11 22 33 44 55]\n",
      " [21 22 23 34 45]\n",
      " [89 78 67 56 77]]\n",
      "===============\n",
      "[[21 22 23 34 45]\n",
      " [89 78 67 56 77]\n",
      " [60 70 80 90 99]]\n",
      "============================\n",
      "[[11 22 33]\n",
      " [11 22 99]]\n"
     ]
    }
   ],
   "source": [
    "x=np.array([[11,22,33,44,55],\n",
    "           [21,22,23,34,45],\n",
    "           [89,78,67,56,77],\n",
    "           [10,20,30,40,50],\n",
    "           [60,70,80,90,99]])\n",
    "r=[0,1,2]\n",
    "print(np.take(x,r,axis=0))\n",
    "print('===============')\n",
    "r=[1,2,-1]\n",
    "print(np.take(x,r,axis=0))\n",
    "print('============================')\n",
    "r=[0,1,2]\n",
    "c=[0,1,-1]\n",
    "print(np.take(x,[r,c]))"
   ]
  },
  {
   "cell_type": "markdown",
   "metadata": {},
   "source": [
    "使用切片索引到numpy数组时，生成的数组视图将始终是原始数组的子数组, 但是整数数组索引，不是其子数组，是形成新的数组"
   ]
  },
  {
   "cell_type": "code",
   "execution_count": 20,
   "metadata": {},
   "outputs": [
    {
     "name": "stdout",
     "output_type": "stream",
     "text": [
      "[[ True]]\n"
     ]
    }
   ],
   "source": [
    "a=np.array([[1,2],[3,4],[5,6]])\n",
    "b=a[0:1,0:1]\n",
    "b[0,0]=2\n",
    "print(a[0,0]==b)"
   ]
  },
  {
   "cell_type": "code",
   "execution_count": 21,
   "metadata": {},
   "outputs": [
    {
     "name": "stdout",
     "output_type": "stream",
     "text": [
      "False\n"
     ]
    }
   ],
   "source": [
    "a=np.array([[1,2],[3,4],[5,6]])\n",
    "b=a[0,0]\n",
    "b=2\n",
    "print(a[0,0]==b)"
   ]
  },
  {
   "cell_type": "markdown",
   "metadata": {},
   "source": [
    "### 布尔索引\n",
    "布尔数字组来索引目标数组"
   ]
  },
  {
   "cell_type": "code",
   "execution_count": 22,
   "metadata": {},
   "outputs": [
    {
     "name": "stdout",
     "output_type": "stream",
     "text": [
      "[False False False False False  True  True  True]\n"
     ]
    }
   ],
   "source": [
    "x=np.array([1,2,3,4,5,6,7,8])\n",
    "y=x>5\n",
    "print(y)"
   ]
  },
  {
   "cell_type": "code",
   "execution_count": 23,
   "metadata": {},
   "outputs": [
    {
     "name": "stdout",
     "output_type": "stream",
     "text": [
      "[6 7 8]\n"
     ]
    }
   ],
   "source": [
    "print(x[x>5])"
   ]
  },
  {
   "cell_type": "code",
   "execution_count": 24,
   "metadata": {},
   "outputs": [
    {
     "name": "stdout",
     "output_type": "stream",
     "text": [
      "[1. 2. 3. 4. 5.]\n"
     ]
    }
   ],
   "source": [
    "x=np.array([np.nan,1,2,np.nan,3,4,5])\n",
    "y=np.logical_not(np.isnan(x))\n",
    "print(x[y])"
   ]
  },
  {
   "cell_type": "code",
   "execution_count": 25,
   "metadata": {},
   "outputs": [
    {
     "name": "stdout",
     "output_type": "stream",
     "text": [
      "[[False False  True  True  True]\n",
      " [False False False  True  True]\n",
      " [ True  True  True  True  True]\n",
      " [False False  True  True  True]\n",
      " [ True  True  True  True  True]]\n"
     ]
    }
   ],
   "source": [
    "x=np.array([[11,22,33,44,55],\n",
    "           [21,22,23,34,45],\n",
    "           [89,78,67,56,77],\n",
    "           [10,20,30,40,50],\n",
    "           [60,70,80,90,99]])\n",
    "y=x>25\n",
    "print(y)"
   ]
  },
  {
   "cell_type": "code",
   "execution_count": 26,
   "metadata": {},
   "outputs": [
    {
     "name": "stdout",
     "output_type": "stream",
     "text": [
      "[33 44 55 34 45 89 78 67 56 77 30 40 50 60 70 80 90 99]\n"
     ]
    }
   ],
   "source": [
    "print(x[x>25])"
   ]
  },
  {
   "cell_type": "code",
   "execution_count": 27,
   "metadata": {},
   "outputs": [
    {
     "name": "stdout",
     "output_type": "stream",
     "text": [
      "50\n"
     ]
    }
   ],
   "source": [
    "import matplotlib.pyplot as plt\n",
    "x=np.linspace(0,2*np.pi,50)\n",
    "y=np.sin(x)\n",
    "print(len(x))"
   ]
  },
  {
   "cell_type": "code",
   "execution_count": 28,
   "metadata": {},
   "outputs": [
    {
     "name": "stdout",
     "output_type": "stream",
     "text": [
      "[ 0.00000000e+00  1.27877162e-01  2.53654584e-01  3.75267005e-01\n",
      "  4.90717552e-01  5.98110530e-01  6.95682551e-01  7.81831482e-01\n",
      "  8.55142763e-01  9.14412623e-01  9.58667853e-01  9.87181783e-01\n",
      "  9.99486216e-01  9.95379113e-01  9.74927912e-01  9.38468422e-01\n",
      "  8.86599306e-01  8.20172255e-01  7.40277997e-01  6.48228395e-01\n",
      "  5.45534901e-01  4.33883739e-01  3.15108218e-01  1.91158629e-01\n",
      "  6.40702200e-02 -6.40702200e-02 -1.91158629e-01 -3.15108218e-01\n",
      " -4.33883739e-01 -5.45534901e-01 -6.48228395e-01 -7.40277997e-01\n",
      " -8.20172255e-01 -8.86599306e-01 -9.38468422e-01 -9.74927912e-01\n",
      " -9.95379113e-01 -9.99486216e-01 -9.87181783e-01 -9.58667853e-01\n",
      " -9.14412623e-01 -8.55142763e-01 -7.81831482e-01 -6.95682551e-01\n",
      " -5.98110530e-01 -4.90717552e-01 -3.75267005e-01 -2.53654584e-01\n",
      " -1.27877162e-01 -2.44929360e-16]\n"
     ]
    }
   ],
   "source": [
    "print(y)"
   ]
  },
  {
   "cell_type": "code",
   "execution_count": 29,
   "metadata": {},
   "outputs": [
    {
     "data": {
      "text/plain": [
       "[<matplotlib.lines.Line2D at 0x225875319d0>]"
      ]
     },
     "execution_count": 29,
     "metadata": {},
     "output_type": "execute_result"
    },
    {
     "data": {
      "image/png": "[encoded data removed]",
      "text/plain": [
       "<Figure size 432x288 with 1 Axes>"
      ]
     },
     "metadata": {
      "needs_background": "light"
     },
     "output_type": "display_data"
    }
   ],
   "source": [
    "plt.plot(x,y)"
   ]
  },
  {
   "cell_type": "code",
   "execution_count": 30,
   "metadata": {},
   "outputs": [
    {
     "name": "stdout",
     "output_type": "stream",
     "text": [
      "25\n"
     ]
    }
   ],
   "source": [
    "mask=y>=0\n",
    "print(len(x[mask]))"
   ]
  },
  {
   "cell_type": "code",
   "execution_count": 31,
   "metadata": {},
   "outputs": [
    {
     "name": "stdout",
     "output_type": "stream",
     "text": [
      "[ True  True  True  True  True  True  True  True  True  True  True  True\n",
      "  True  True  True  True  True  True  True  True  True  True  True  True\n",
      "  True False False False False False False False False False False False\n",
      " False False False False False False False False False False False False\n",
      " False False]\n"
     ]
    }
   ],
   "source": [
    "print(mask)"
   ]
  },
  {
   "cell_type": "code",
   "execution_count": 32,
   "metadata": {},
   "outputs": [
    {
     "data": {
      "text/plain": [
       "[<matplotlib.lines.Line2D at 0x2258962d520>]"
      ]
     },
     "execution_count": 32,
     "metadata": {},
     "output_type": "execute_result"
    },
    {
     "data": {
      "image/png": "[encoded data removed]",
      "text/plain": [
       "<Figure size 432x288 with 1 Axes>"
      ]
     },
     "metadata": {
      "needs_background": "light"
     },
     "output_type": "display_data"
    }
   ],
   "source": [
    "plt.plot(x[mask],y[mask],'bo')"
   ]
  },
  {
   "cell_type": "code",
   "execution_count": 33,
   "metadata": {},
   "outputs": [
    {
     "name": "stdout",
     "output_type": "stream",
     "text": [
      "[ True  True  True  True  True  True  True  True  True  True  True  True\n",
      "  True False False False False False False False False False False False\n",
      " False False False False False False False False False False False False\n",
      " False False False False False False False False False False False False\n",
      " False False]\n"
     ]
    }
   ],
   "source": [
    "mask=np.logical_and(y>=0,x<=np.pi/2)\n",
    "print(mask)"
   ]
  },
  {
   "cell_type": "code",
   "execution_count": 34,
   "metadata": {},
   "outputs": [
    {
     "data": {
      "image/png": "[encoded data removed]",
      "text/plain": [
       "<Figure size 432x288 with 1 Axes>"
      ]
     },
     "metadata": {
      "needs_background": "light"
     },
     "output_type": "display_data"
    }
   ],
   "source": [
    "plt.plot(x[mask],y[mask],'go')\n",
    "plt.show()"
   ]
  },
  {
   "cell_type": "markdown",
   "metadata": {},
   "source": [
    "## 数组迭代\n",
    "- apply_along_axis()"
   ]
  },
  {
   "cell_type": "code",
   "execution_count": 35,
   "metadata": {},
   "outputs": [
    {
     "name": "stdout",
     "output_type": "stream",
     "text": [
      "每一列的和： [191 212 233 264 326]\n"
     ]
    }
   ],
   "source": [
    "x=np.array([[11,22,33,44,55],\n",
    "           [21,22,23,34,45],\n",
    "           [89,78,67,56,77],\n",
    "           [10,20,30,40,50],\n",
    "           [60,70,80,90,99]])\n",
    "y=np.apply_along_axis(np.sum,0,x)\n",
    "print('每一列的和：',y)"
   ]
  },
  {
   "cell_type": "code",
   "execution_count": 36,
   "metadata": {},
   "outputs": [
    {
     "name": "stdout",
     "output_type": "stream",
     "text": [
      "每一行的和： [165 145 367 150 399]\n"
     ]
    }
   ],
   "source": [
    "y=np.apply_along_axis(np.sum,1,x)\n",
    "print('每一行的和：',y)"
   ]
  },
  {
   "cell_type": "code",
   "execution_count": 37,
   "metadata": {},
   "outputs": [
    {
     "name": "stdout",
     "output_type": "stream",
     "text": [
      "[38.2 42.4 46.6 52.8 65.2]\n"
     ]
    }
   ],
   "source": [
    "y=np.apply_along_axis(np.mean,0,x)\n",
    "print(y)"
   ]
  },
  {
   "cell_type": "code",
   "execution_count": 38,
   "metadata": {},
   "outputs": [
    {
     "name": "stdout",
     "output_type": "stream",
     "text": [
      "[33.  29.  73.4 30.  79.8]\n"
     ]
    }
   ],
   "source": [
    "y=np.apply_along_axis(np.mean,1,x)\n",
    "print(y)"
   ]
  },
  {
   "cell_type": "code",
   "execution_count": 39,
   "metadata": {},
   "outputs": [
    {
     "name": "stdout",
     "output_type": "stream",
     "text": [
      "[35.5 46.  56.5 67.  77. ]\n"
     ]
    }
   ],
   "source": [
    "def fun(x):\n",
    "    return (x[0]+x[-1])*0.5\n",
    "y=np.apply_along_axis(fun,0,x)\n",
    "print(y)\n"
   ]
  },
  {
   "cell_type": "code",
   "execution_count": 40,
   "metadata": {},
   "outputs": [
    {
     "name": "stdout",
     "output_type": "stream",
     "text": [
      "[33.  33.  83.  30.  79.5]\n"
     ]
    }
   ],
   "source": [
    "y=np.apply_along_axis(fun,1,x)\n",
    "print(y)"
   ]
  },
  {
   "cell_type": "code",
   "execution_count": null,
   "metadata": {},
   "outputs": [],
   "source": []
  }
 ],
 "metadata": {
  "kernelspec": {
   "display_name": "Python 3",
   "language": "python",
   "name": "python3"
  },
  "language_info": {
   "codemirror_mode": {
    "name": "ipython",
    "version": 3
   },
   "file_extension": ".py",
   "mimetype": "text/x-python",
   "name": "python",
   "nbconvert_exporter": "python",
   "pygments_lexer": "ipython3",
   "version": "3.8.3"
  }
 },
 "nbformat": 4,
 "nbformat_minor": 4
}
