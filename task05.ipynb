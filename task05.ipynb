{
 "cells": [
  {
   "cell_type": "markdown",
   "metadata": {},
   "source": [
    "## 集合操作\n",
    "### 构造集合\n",
    "- numpy.unique(ar, return_index=False, return_inverse=False, return_counts=False, axis=None)\n",
    "- return_index=True 表示返回新列表元素在旧列表中的位置。\n",
    "- return_inverse=True表示返回旧列表元素在新列表中的位置。\n",
    "- return_counts=True表示返回新列表元素在旧列表中出现的次数"
   ]
  },
  {
   "cell_type": "code",
   "execution_count": 1,
   "metadata": {},
   "outputs": [],
   "source": [
    "import numpy as np\n"
   ]
  },
  {
   "cell_type": "code",
   "execution_count": 11,
   "metadata": {},
   "outputs": [
    {
     "name": "stdout",
     "output_type": "stream",
     "text": [
      "=================打印集合，集合中会去重=====================\n",
      "[1 2 3]\n",
      "================打印集合、去重并排序======================\n",
      "[1, 2, 3]\n",
      "==============输出集合，去重========================\n",
      "[1 2 3]\n",
      "=============对数组元素进行去重=========================\n",
      "[[1 0 0]\n",
      " [2 3 4]]\n",
      "==============打印集合元素，去重========================\n",
      "['a' 'b' 'c']\n",
      "==============打印索引========================\n",
      "[0 1 3]\n",
      "=================打印索引对应元素=====================\n",
      "['a' 'b' 'c']\n"
     ]
    }
   ],
   "source": [
    "x = np.unique([1, 1, 3, 2, 3, 3])\n",
    "print('=================打印集合，集合中会去重=====================')\n",
    "print(x)   \n",
    "\n",
    "\n",
    "x = sorted(set([1, 1, 3, 2, 3, 3]))\n",
    "print('================打印集合、去重并排序======================')\n",
    "print(x)   \n",
    "\n",
    "x = np.array([[1, 1], [2, 3]])\n",
    "u = np.unique(x)\n",
    "print('==============输出集合，去重========================')\n",
    "print(u)   \n",
    "\n",
    "x = np.array([[1, 0, 0], [1, 0, 0], [2, 3, 4]])\n",
    "y = np.unique(x, axis=0)\n",
    "print('=============对数组元素进行去重=========================')\n",
    "print(y)\n",
    "\n",
    "\n",
    "x = np.array(['a', 'b', 'b', 'c', 'a'])\n",
    "u, index = np.unique(x, return_index=True)\n",
    "print('==============打印集合元素，去重========================')\n",
    "print(u)   \n",
    "\n",
    "print('==============打印索引========================')\n",
    "print(index)  \n",
    "print('=================打印索引对应元素=====================')\n",
    "print(x[index])\n",
    "\n",
    "\n",
    "\n"
   ]
  },
  {
   "cell_type": "code",
   "execution_count": 12,
   "metadata": {},
   "outputs": [
    {
     "name": "stdout",
     "output_type": "stream",
     "text": [
      "=============打印集合元素=========================\n",
      "[1 2 3 4 6]\n",
      "=============打印集合元素的索引=========================\n",
      "[0 1 4 3 1 2 1]\n",
      "===============打印对应索引的元素=======================\n",
      "[1 2 6 4 2 3 2]\n",
      "================打印集合元素======================\n",
      "[1 2 3 4 6]\n",
      "==================统计对应位置的元素数量====================\n",
      "[1 3 1 1 1]\n"
     ]
    }
   ],
   "source": [
    "x = np.array([1, 2, 6, 4, 2, 3, 2])\n",
    "u, index = np.unique(x, return_inverse=True)\n",
    "print('=============打印集合元素=========================')\n",
    "print(u) \n",
    "\n",
    "print('=============打印集合元素的索引=========================')\n",
    "print(index) \n",
    "print('===============打印对应索引的元素=======================')\n",
    "print(u[index]) \n",
    "\n",
    "\n",
    "u, count = np.unique(x, return_counts=True)\n",
    "print('================打印集合元素======================')\n",
    "print(u)   \n",
    "print('==================统计对应位置的元素数量====================')\n",
    "print(count)  "
   ]
  },
  {
   "cell_type": "markdown",
   "metadata": {},
   "source": [
    "### 布尔运算\n",
    "- numpy.in1d(ar1, ar2, assume_unique=False, invert=False) \n"
   ]
  },
  {
   "cell_type": "code",
   "execution_count": 13,
   "metadata": {},
   "outputs": [
    {
     "name": "stdout",
     "output_type": "stream",
     "text": [
      "[ True False  True False  True]\n",
      "[0 2 0]\n",
      "[False  True False  True False]\n",
      "[1 5]\n"
     ]
    }
   ],
   "source": [
    "test = np.array([0, 1, 2, 5, 0])\n",
    "states = [0, 2]\n",
    "mask = np.in1d(test, states)\n",
    "# 判断数组一中有没有数组二中的元素，如果有，对应的索引位置就返回true，没有就false\n",
    "print(mask)   \n",
    "# test数组中true的索引位对应的元素\n",
    "print(test[mask])   \n",
    "\n",
    "mask = np.in1d(test, states, invert=True)\n",
    "# invert是反向的意思，就是对应位置是false，否则true\n",
    "print(mask)   \n",
    "print(test[mask])   "
   ]
  },
  {
   "cell_type": "markdown",
   "metadata": {},
   "source": [
    "### 集合的交集\n",
    "- numpy.intersect1d(ar1, ar2, assume_unique=False, return_indices=False)"
   ]
  },
  {
   "cell_type": "code",
   "execution_count": 16,
   "metadata": {},
   "outputs": [
    {
     "name": "stdout",
     "output_type": "stream",
     "text": [
      "[1 3]\n",
      "(array([1, 2, 4]), array([0, 2, 4], dtype=int64), array([1, 0, 2], dtype=int64))\n",
      "[0 2 4]\n",
      "[1 0 2]\n",
      "[1 2 4]\n",
      "[1 2 4]\n",
      "[1 2 4]\n",
      "[3]\n"
     ]
    }
   ],
   "source": [
    "from functools import reduce\n",
    "\n",
    "x = np.intersect1d([1, 3, 4, 3], [3, 1, 2, 1])\n",
    "print(x) \n",
    "\n",
    "\n",
    "x = np.array([1, 1, 2, 3, 4])\n",
    "y = np.array([2, 1, 4, 6])\n",
    "xy, x_ind, y_ind = np.intersect1d(x, y, return_indices=True)\n",
    "# \n",
    "# print(np.intersect1d(x, y, return_indices=True))\n",
    "# 交集看i中存在的元素在集合1中第一出现的位置的索引\n",
    "print(x_ind)  \n",
    "# 公共元素在集合2中第一次出现的位置\n",
    "print(y_ind)  \n",
    "# 交集中的元素\n",
    "print(xy)  \n",
    "# 第一个数组中公共的数组元素\n",
    "print(x[x_ind])  \n",
    "# 第二个数组中，交集中的元素\n",
    "print(y[y_ind])  \n",
    "\n",
    "x = reduce(np.intersect1d, ([1, 3, 4, 3], [3, 1, 2, 1], [6, 3, 4, 2]))\n",
    "# 统计共同元素\n",
    "print(x)  "
   ]
  },
  {
   "cell_type": "markdown",
   "metadata": {},
   "source": [
    "### 集合的并集\n",
    "- numpy.union1d(ar1, ar2)"
   ]
  },
  {
   "cell_type": "code",
   "execution_count": 19,
   "metadata": {},
   "outputs": [
    {
     "name": "stdout",
     "output_type": "stream",
     "text": [
      "[-2 -1  0  1  2]\n",
      "[1 2 3 4 6]\n"
     ]
    }
   ],
   "source": [
    "x = np.union1d([-1, 0, 1], [-2, 0, 2])\n",
    "print(x)  \n",
    "x = reduce(np.union1d, ([1, 3, 4, 3], [3, 1, 2, 1], [6, 3, 4, 2]))\n",
    "print(x) "
   ]
  },
  {
   "cell_type": "markdown",
   "metadata": {},
   "source": [
    "### 集合的差集\n",
    "- numpy.setdiff1d(ar1, ar2, assume_unique=False) "
   ]
  },
  {
   "cell_type": "code",
   "execution_count": 20,
   "metadata": {},
   "outputs": [
    {
     "name": "stdout",
     "output_type": "stream",
     "text": [
      "[1 2]\n"
     ]
    }
   ],
   "source": [
    "a = np.array([1, 2, 3, 2, 4, 1])\n",
    "b = np.array([3, 4, 5, 6])\n",
    "x = np.setdiff1d(a, b)\n",
    "# 输出集合a中有的但是集合b中没有的元素相当于a-b\n",
    "print(x)  "
   ]
  },
  {
   "cell_type": "markdown",
   "metadata": {},
   "source": [
    "### 集合的异或\n",
    "- setxor1d(ar1, ar2, assume_unique=False)"
   ]
  },
  {
   "cell_type": "code",
   "execution_count": 21,
   "metadata": {},
   "outputs": [
    {
     "name": "stdout",
     "output_type": "stream",
     "text": [
      "[1 2 5 6]\n"
     ]
    }
   ],
   "source": [
    "a = np.array([1, 2, 3, 2, 4, 1])\n",
    "b = np.array([3, 4, 5, 6])\n",
    "x = np.setxor1d(a, b)\n",
    "\n",
    "# 集合的交集的补集，就是两个集合各自独有的元素的集合\n",
    "print(x) "
   ]
  },
  {
   "cell_type": "code",
   "execution_count": null,
   "metadata": {},
   "outputs": [],
   "source": []
  },
  {
   "cell_type": "code",
   "execution_count": null,
   "metadata": {},
   "outputs": [],
   "source": []
  },
  {
   "cell_type": "code",
   "execution_count": null,
   "metadata": {},
   "outputs": [],
   "source": []
  },
  {
   "cell_type": "code",
   "execution_count": null,
   "metadata": {},
   "outputs": [],
   "source": []
  },
  {
   "cell_type": "code",
   "execution_count": null,
   "metadata": {},
   "outputs": [],
   "source": []
  },
  {
   "cell_type": "code",
   "execution_count": null,
   "metadata": {},
   "outputs": [],
   "source": []
  },
  {
   "cell_type": "code",
   "execution_count": null,
   "metadata": {},
   "outputs": [],
   "source": []
  },
  {
   "cell_type": "code",
   "execution_count": null,
   "metadata": {},
   "outputs": [],
   "source": []
  },
  {
   "cell_type": "code",
   "execution_count": null,
   "metadata": {},
   "outputs": [],
   "source": []
  },
  {
   "cell_type": "code",
   "execution_count": null,
   "metadata": {},
   "outputs": [],
   "source": []
  }
 ],
 "metadata": {
  "kernelspec": {
   "display_name": "Python 3",
   "language": "python",
   "name": "python3"
  },
  "language_info": {
   "codemirror_mode": {
    "name": "ipython",
    "version": 3
   },
   "file_extension": ".py",
   "mimetype": "text/x-python",
   "name": "python",
   "nbconvert_exporter": "python",
   "pygments_lexer": "ipython3",
   "version": "3.8.3"
  }
 },
 "nbformat": 4,
 "nbformat_minor": 4
}
