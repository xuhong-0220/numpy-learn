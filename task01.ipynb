{
 "cells": [
  {
   "cell_type": "markdown",
   "metadata": {},
   "source": [
    "# 导入numpy\n",
    "numpy是一个python的工具包，主要应用于处理数组类型的数据"
   ]
  },
  {
   "cell_type": "code",
   "execution_count": 1,
   "metadata": {},
   "outputs": [],
   "source": [
    "import numpy as np"
   ]
  },
  {
   "cell_type": "markdown",
   "metadata": {},
   "source": [
    "## 常量\n",
    "- numpy.nan\n",
    "- numpy.inf\n",
    "- numpy.pi\n",
    "- numpy.e\n",
    "\n",
    "### numpy.nan 空值\n",
    "在实际应用中用到最多是nan空值，在数据处理中涉及到对空值的处理，"
   ]
  },
  {
   "cell_type": "code",
   "execution_count": 2,
   "metadata": {},
   "outputs": [
    {
     "data": {
      "text/plain": [
       "[0, 2, 4, nan]"
      ]
     },
     "execution_count": 2,
     "metadata": {},
     "output_type": "execute_result"
    }
   ],
   "source": [
    "A=[0,2,4,np.nan]\n",
    "A"
   ]
  },
  {
   "cell_type": "markdown",
   "metadata": {},
   "source": [
    "空值也占一个长度"
   ]
  },
  {
   "cell_type": "code",
   "execution_count": 3,
   "metadata": {},
   "outputs": [
    {
     "data": {
      "text/plain": [
       "4"
      ]
     },
     "execution_count": 3,
     "metadata": {},
     "output_type": "execute_result"
    }
   ],
   "source": [
    "len(A)"
   ]
  },
  {
   "cell_type": "markdown",
   "metadata": {},
   "source": [
    "判断数组中是否用空值可以用np.isnan()函数，它会按照索引位置返回空值的判断，空值为True"
   ]
  },
  {
   "cell_type": "code",
   "execution_count": 4,
   "metadata": {},
   "outputs": [
    {
     "name": "stdout",
     "output_type": "stream",
     "text": [
      "[False False False  True]\n"
     ]
    }
   ],
   "source": [
    "print(np.isnan(A))"
   ]
  },
  {
   "cell_type": "markdown",
   "metadata": {},
   "source": [
    "在实际数据挖掘的过程中可以用sum()统计空值的数量，并对其进行处理\n",
    "\n",
    "count_nonzero()对非0元素统计"
   ]
  },
  {
   "cell_type": "code",
   "execution_count": 5,
   "metadata": {},
   "outputs": [
    {
     "name": "stdout",
     "output_type": "stream",
     "text": [
      "1\n"
     ]
    }
   ],
   "source": [
    "print(np.isnan(A).sum())"
   ]
  },
  {
   "cell_type": "code",
   "execution_count": 6,
   "metadata": {},
   "outputs": [
    {
     "data": {
      "text/plain": [
       "3"
      ]
     },
     "execution_count": 6,
     "metadata": {},
     "output_type": "execute_result"
    }
   ],
   "source": [
    "z = np.count_nonzero(A)\n",
    "z"
   ]
  },
  {
   "cell_type": "markdown",
   "metadata": {},
   "source": [
    "### inf是无穷大\n",
    "在对比大小的时候比任何数都大"
   ]
  },
  {
   "cell_type": "code",
   "execution_count": 7,
   "metadata": {},
   "outputs": [
    {
     "name": "stdout",
     "output_type": "stream",
     "text": [
      "True\n"
     ]
    }
   ],
   "source": [
    "c=np.inf\n",
    "print(c>9999999999)"
   ]
  },
  {
   "cell_type": "markdown",
   "metadata": {},
   "source": [
    "### pi是圆周率\n",
    "可以用pi求解圆的面积"
   ]
  },
  {
   "cell_type": "code",
   "execution_count": 8,
   "metadata": {},
   "outputs": [],
   "source": [
    "d=np.pi\n",
    "d\n",
    "r=10"
   ]
  },
  {
   "cell_type": "code",
   "execution_count": 9,
   "metadata": {},
   "outputs": [
    {
     "data": {
      "text/plain": [
       "314.1592653589793"
      ]
     },
     "execution_count": 9,
     "metadata": {},
     "output_type": "execute_result"
    }
   ],
   "source": [
    "s=d*r*r\n",
    "s"
   ]
  },
  {
   "cell_type": "markdown",
   "metadata": {},
   "source": [
    "### e自然数，对数函数"
   ]
  },
  {
   "cell_type": "code",
   "execution_count": 10,
   "metadata": {},
   "outputs": [
    {
     "data": {
      "text/plain": [
       "2.0"
      ]
     },
     "execution_count": 10,
     "metadata": {},
     "output_type": "execute_result"
    }
   ],
   "source": [
    "import math\n",
    "f=np.e*np.e\n",
    "g=math.log(f)\n",
    "g"
   ]
  },
  {
   "cell_type": "markdown",
   "metadata": {},
   "source": [
    "## 数据类型\n",
    ">常见的数据类型有整型、浮点型、字符串、布尔型等等\n",
    "\n",
    ">python的原生数据类型较少bool、int、float、str,原生的数据类型在类型名称后都加了'_'\n",
    "\n",
    "- bool_=bool8\n",
    "- int_=int64=long=int0=intp\n",
    "- float_=float64=double\n",
    "- str_=unicode=str0\n"
   ]
  },
  {
   "cell_type": "markdown",
   "metadata": {},
   "source": [
    "所以需要创建数据类型\n",
    "\n",
    "每一个自建的数据类型都有一个唯一的字符代码\n",
    "- boolean--'b1\n",
    "- signed integer--'i1','i2','i4','i8'\n",
    "- floating-point--'f2','f4','f8'\n",
    "- unsigned integer--'u1','u2','u4','u8'\n",
    "- string--S3表示长度为3的字符串"
   ]
  },
  {
   "cell_type": "code",
   "execution_count": 11,
   "metadata": {},
   "outputs": [
    {
     "data": {
      "text/plain": [
       "dtype('bool')"
      ]
     },
     "execution_count": 11,
     "metadata": {},
     "output_type": "execute_result"
    }
   ],
   "source": [
    "a=np.dtype('b1')\n",
    "a"
   ]
  },
  {
   "cell_type": "code",
   "execution_count": 12,
   "metadata": {},
   "outputs": [
    {
     "data": {
      "text/plain": [
       "dtype('int8')"
      ]
     },
     "execution_count": 12,
     "metadata": {},
     "output_type": "execute_result"
    }
   ],
   "source": [
    "a=np.dtype('i1')\n",
    "a"
   ]
  },
  {
   "cell_type": "code",
   "execution_count": 13,
   "metadata": {},
   "outputs": [
    {
     "data": {
      "text/plain": [
       "dtype('int16')"
      ]
     },
     "execution_count": 13,
     "metadata": {},
     "output_type": "execute_result"
    }
   ],
   "source": [
    "a=np.dtype('i2')\n",
    "a"
   ]
  },
  {
   "cell_type": "code",
   "execution_count": 14,
   "metadata": {},
   "outputs": [
    {
     "data": {
      "text/plain": [
       "dtype('int32')"
      ]
     },
     "execution_count": 14,
     "metadata": {},
     "output_type": "execute_result"
    }
   ],
   "source": [
    "a=np.dtype('i4')\n",
    "a"
   ]
  },
  {
   "cell_type": "code",
   "execution_count": 15,
   "metadata": {},
   "outputs": [
    {
     "data": {
      "text/plain": [
       "dtype('int64')"
      ]
     },
     "execution_count": 15,
     "metadata": {},
     "output_type": "execute_result"
    }
   ],
   "source": [
    "a=np.dtype('i8')\n",
    "a"
   ]
  },
  {
   "cell_type": "code",
   "execution_count": 16,
   "metadata": {},
   "outputs": [
    {
     "data": {
      "text/plain": [
       "dtype('float16')"
      ]
     },
     "execution_count": 16,
     "metadata": {},
     "output_type": "execute_result"
    }
   ],
   "source": [
    "a=np.dtype('f2')\n",
    "a"
   ]
  },
  {
   "cell_type": "code",
   "execution_count": 17,
   "metadata": {},
   "outputs": [
    {
     "data": {
      "text/plain": [
       "dtype('float32')"
      ]
     },
     "execution_count": 17,
     "metadata": {},
     "output_type": "execute_result"
    }
   ],
   "source": [
    "a=np.dtype('f4')\n",
    "a"
   ]
  },
  {
   "cell_type": "code",
   "execution_count": 18,
   "metadata": {},
   "outputs": [
    {
     "data": {
      "text/plain": [
       "dtype('float64')"
      ]
     },
     "execution_count": 18,
     "metadata": {},
     "output_type": "execute_result"
    }
   ],
   "source": [
    "a=np.dtype('f8')\n",
    "a"
   ]
  },
  {
   "cell_type": "code",
   "execution_count": 19,
   "metadata": {},
   "outputs": [
    {
     "data": {
      "text/plain": [
       "dtype('uint8')"
      ]
     },
     "execution_count": 19,
     "metadata": {},
     "output_type": "execute_result"
    }
   ],
   "source": [
    "a=np.dtype('u1')\n",
    "a"
   ]
  },
  {
   "cell_type": "code",
   "execution_count": 20,
   "metadata": {},
   "outputs": [
    {
     "data": {
      "text/plain": [
       "dtype('uint16')"
      ]
     },
     "execution_count": 20,
     "metadata": {},
     "output_type": "execute_result"
    }
   ],
   "source": [
    "a=np.dtype('u2')\n",
    "a"
   ]
  },
  {
   "cell_type": "code",
   "execution_count": 21,
   "metadata": {},
   "outputs": [
    {
     "data": {
      "text/plain": [
       "dtype('uint32')"
      ]
     },
     "execution_count": 21,
     "metadata": {},
     "output_type": "execute_result"
    }
   ],
   "source": [
    "a=np.dtype('u4')\n",
    "a"
   ]
  },
  {
   "cell_type": "code",
   "execution_count": 22,
   "metadata": {},
   "outputs": [
    {
     "data": {
      "text/plain": [
       "dtype('uint64')"
      ]
     },
     "execution_count": 22,
     "metadata": {},
     "output_type": "execute_result"
    }
   ],
   "source": [
    "a=np.dtype('u8')\n",
    "a"
   ]
  },
  {
   "cell_type": "code",
   "execution_count": 23,
   "metadata": {},
   "outputs": [
    {
     "data": {
      "text/plain": [
       "(numpy.bytes_, 0)"
      ]
     },
     "execution_count": 23,
     "metadata": {},
     "output_type": "execute_result"
    }
   ],
   "source": [
    "a=np.dtype('S')\n",
    "a1=a.type\n",
    "a2=a.itemsize\n",
    "a1,a2"
   ]
  },
  {
   "cell_type": "code",
   "execution_count": 24,
   "metadata": {},
   "outputs": [
    {
     "data": {
      "text/plain": [
       "(numpy.bytes_, 3)"
      ]
     },
     "execution_count": 24,
     "metadata": {},
     "output_type": "execute_result"
    }
   ],
   "source": [
    "a=np.dtype('S3')\n",
    "a1=a.type\n",
    "a2=a.itemsize\n",
    "a1,a2"
   ]
  },
  {
   "cell_type": "code",
   "execution_count": 25,
   "metadata": {},
   "outputs": [
    {
     "data": {
      "text/plain": [
       "(numpy.str_, 12)"
      ]
     },
     "execution_count": 25,
     "metadata": {},
     "output_type": "execute_result"
    }
   ],
   "source": [
    "a=np.dtype('U3')\n",
    "a1=a.type\n",
    "a2=a.itemsize\n",
    "a1,a2"
   ]
  },
  {
   "cell_type": "markdown",
   "metadata": {},
   "source": [
    "### 日期和时间增量"
   ]
  },
  {
   "cell_type": "code",
   "execution_count": 26,
   "metadata": {},
   "outputs": [
    {
     "data": {
      "text/plain": [
       "(numpy.datetime64('2020-10-10'), dtype('<M8[D]'))"
      ]
     },
     "execution_count": 26,
     "metadata": {},
     "output_type": "execute_result"
    }
   ],
   "source": [
    "a=np.datetime64('2020-10-10')\n",
    "a,a.dtype"
   ]
  },
  {
   "cell_type": "code",
   "execution_count": 27,
   "metadata": {},
   "outputs": [
    {
     "data": {
      "text/plain": [
       "(numpy.datetime64('2020-10'), dtype('<M8[M]'))"
      ]
     },
     "execution_count": 27,
     "metadata": {},
     "output_type": "execute_result"
    }
   ],
   "source": [
    "a=np.datetime64('2020-10')\n",
    "a,a.dtype"
   ]
  },
  {
   "cell_type": "code",
   "execution_count": 28,
   "metadata": {},
   "outputs": [
    {
     "data": {
      "text/plain": [
       "(numpy.datetime64('2020'), dtype('<M8[Y]'))"
      ]
     },
     "execution_count": 28,
     "metadata": {},
     "output_type": "execute_result"
    }
   ],
   "source": [
    "a=np.datetime64('2020')\n",
    "a,a.dtype"
   ]
  },
  {
   "cell_type": "code",
   "execution_count": 29,
   "metadata": {},
   "outputs": [
    {
     "data": {
      "text/plain": [
       "(numpy.datetime64('2020-10-10T20:10:30'), dtype('<M8[s]'))"
      ]
     },
     "execution_count": 29,
     "metadata": {},
     "output_type": "execute_result"
    }
   ],
   "source": [
    "a=np.datetime64('2020-10-10 20:10:30')\n",
    "a,a.dtype"
   ]
  },
  {
   "cell_type": "code",
   "execution_count": 30,
   "metadata": {},
   "outputs": [
    {
     "data": {
      "text/plain": [
       "(numpy.datetime64('2020-10-10T20:10'), dtype('<M8[m]'))"
      ]
     },
     "execution_count": 30,
     "metadata": {},
     "output_type": "execute_result"
    }
   ],
   "source": [
    "a=np.datetime64('2020-10-10 20:10')\n",
    "a,a.dtype"
   ]
  },
  {
   "cell_type": "code",
   "execution_count": 31,
   "metadata": {},
   "outputs": [
    {
     "data": {
      "text/plain": [
       "(numpy.datetime64('2020-10-10T20','h'), dtype('<M8[h]'))"
      ]
     },
     "execution_count": 31,
     "metadata": {},
     "output_type": "execute_result"
    }
   ],
   "source": [
    "a=np.datetime64('2020-10-10 20')\n",
    "a,a.dtype"
   ]
  },
  {
   "cell_type": "code",
   "execution_count": 32,
   "metadata": {},
   "outputs": [
    {
     "data": {
      "text/plain": [
       "(numpy.datetime64('2020'), dtype('<M8[Y]'))"
      ]
     },
     "execution_count": 32,
     "metadata": {},
     "output_type": "execute_result"
    }
   ],
   "source": [
    "a=np.datetime64('2020-10-10 20:10','Y')\n",
    "a,a.dtype"
   ]
  },
  {
   "cell_type": "code",
   "execution_count": 33,
   "metadata": {},
   "outputs": [
    {
     "data": {
      "text/plain": [
       "(numpy.datetime64('2020-10-10'), dtype('<M8[D]'))"
      ]
     },
     "execution_count": 33,
     "metadata": {},
     "output_type": "execute_result"
    }
   ],
   "source": [
    "a=np.datetime64('2020-10-10 20:10','D')\n",
    "a,a.dtype"
   ]
  },
  {
   "cell_type": "code",
   "execution_count": 34,
   "metadata": {},
   "outputs": [
    {
     "data": {
      "text/plain": [
       "(numpy.datetime64('2020-10-10T20:10:00'), dtype('<M8[s]'))"
      ]
     },
     "execution_count": 34,
     "metadata": {},
     "output_type": "execute_result"
    }
   ],
   "source": [
    "a=np.datetime64('2020-10-10 20:10','s')\n",
    "a,a.dtype"
   ]
  },
  {
   "cell_type": "markdown",
   "metadata": {},
   "source": [
    "### 使用arange（）方法生成日期范围\n",
    "可以由日到日，也可以有小时到小时"
   ]
  },
  {
   "cell_type": "code",
   "execution_count": 35,
   "metadata": {},
   "outputs": [
    {
     "data": {
      "text/plain": [
       "(array(['2020-10-01', '2020-10-02', '2020-10-03', '2020-10-04',\n",
       "        '2020-10-05', '2020-10-06', '2020-10-07', '2020-10-08',\n",
       "        '2020-10-09'], dtype='datetime64[D]'),\n",
       " dtype('<M8[D]'))"
      ]
     },
     "execution_count": 35,
     "metadata": {},
     "output_type": "execute_result"
    }
   ],
   "source": [
    "a=np.arange('2020-10-01','2020-10-10',dtype=np.datetime64)\n",
    "a,a.dtype"
   ]
  },
  {
   "cell_type": "markdown",
   "metadata": {},
   "source": [
    "### timedelta64运算\n",
    "对日期时间都可以进行计算，加减时间"
   ]
  },
  {
   "cell_type": "code",
   "execution_count": 36,
   "metadata": {},
   "outputs": [],
   "source": [
    "a = np.datetime64('2020-10-10') - np.datetime64('2020-10-01')\n",
    "b = np.datetime64('2020-10-10') - np.datetime64('2020-03-07 08:00')\n",
    "c = np.datetime64('2020-03-08') - np.datetime64('2020-03-07 23:00', 'D')"
   ]
  },
  {
   "cell_type": "code",
   "execution_count": 37,
   "metadata": {},
   "outputs": [
    {
     "name": "stdout",
     "output_type": "stream",
     "text": [
      "9 days timedelta64[D]\n",
      "312000 minutes timedelta64[m]\n",
      "1 days timedelta64[D]\n"
     ]
    }
   ],
   "source": [
    "print(a, a.dtype)\n",
    "print(b, b.dtype)\n",
    "print(c, c.dtype)"
   ]
  },
  {
   "cell_type": "code",
   "execution_count": 38,
   "metadata": {},
   "outputs": [],
   "source": [
    "a = np.datetime64('2020-10') + np.timedelta64(20, 'D')\n",
    "b = np.datetime64('2020-10-10 00:00') + np.timedelta64(12, 'h')"
   ]
  },
  {
   "cell_type": "code",
   "execution_count": 39,
   "metadata": {},
   "outputs": [
    {
     "name": "stdout",
     "output_type": "stream",
     "text": [
      "2020-10-21 datetime64[D]\n",
      "2020-10-10T12:00 datetime64[m]\n"
     ]
    }
   ],
   "source": [
    "print(a,a.dtype)\n",
    "print(b,b.dtype)\n"
   ]
  },
  {
   "cell_type": "markdown",
   "metadata": {},
   "source": [
    "### 工作日与休息日"
   ]
  },
  {
   "cell_type": "code",
   "execution_count": 40,
   "metadata": {},
   "outputs": [
    {
     "data": {
      "text/plain": [
       "numpy.datetime64('2020-10-13')"
      ]
     },
     "execution_count": 40,
     "metadata": {},
     "output_type": "execute_result"
    }
   ],
   "source": [
    "a = np.busday_offset('2020-10-10', offsets=1,roll='forward')\n",
    "a"
   ]
  },
  {
   "cell_type": "markdown",
   "metadata": {},
   "source": [
    "如果日期刚好是工作日，那么就直接输出日期，如果，非工作日，可以通过设置roll=forward或者roll=backward参数来设置往前还是往后找工作日"
   ]
  },
  {
   "cell_type": "markdown",
   "metadata": {},
   "source": [
    "#### 统计数组中的工作日天数"
   ]
  },
  {
   "cell_type": "code",
   "execution_count": 41,
   "metadata": {},
   "outputs": [
    {
     "name": "stdout",
     "output_type": "stream",
     "text": [
      "['2020-10-01' '2020-10-02' '2020-10-03' '2020-10-04' '2020-10-05'\n",
      " '2020-10-06' '2020-10-07' '2020-10-08' '2020-10-09' '2020-10-10'\n",
      " '2020-10-11' '2020-10-12' '2020-10-13' '2020-10-14' '2020-10-15'\n",
      " '2020-10-16' '2020-10-17' '2020-10-18' '2020-10-19']\n",
      "19\n",
      "13\n",
      "[ True  True False False  True  True  True  True  True False False  True\n",
      "  True  True  True  True False False  True]\n"
     ]
    }
   ],
   "source": [
    "begindates = np.datetime64('2020-10-01')\n",
    "enddates = np.datetime64('2020-10-20')\n",
    "a = np.arange(begindates, enddates, dtype='datetime64')\n",
    "b = np.count_nonzero(np.is_busday(a))\n",
    "c=np.is_busday(a)\n",
    "print(a)\n",
    "print(len(a))\n",
    "print(b)\n",
    "print(c)"
   ]
  },
  {
   "cell_type": "markdown",
   "metadata": {},
   "source": [
    "这里有点小问题，今年十一国庆明明是8天的假期，但是，这里显示，只有6天的假期，有点不懂为什么,而且查看后发现，这个函数代码好像不分国界，没有国庆节，只是默认的工作日和周末"
   ]
  },
  {
   "cell_type": "markdown",
   "metadata": {},
   "source": [
    "指定工作日"
   ]
  },
  {
   "cell_type": "code",
   "execution_count": 42,
   "metadata": {},
   "outputs": [
    {
     "name": "stdout",
     "output_type": "stream",
     "text": [
      "True\n",
      "False\n"
     ]
    }
   ],
   "source": [
    "a = np.is_busday('2020-10-02', weekmask=[1, 1, 1, 1, 1, 0, 0])\n",
    "b = np.is_busday('2020-10-02', weekmask=[1, 1, 1, 1, 0, 0, 1])\n",
    "print(a)\n",
    "print(b)"
   ]
  },
  {
   "cell_type": "markdown",
   "metadata": {},
   "source": [
    "统计两个日期之间的工作日"
   ]
  },
  {
   "cell_type": "markdown",
   "metadata": {},
   "source": [
    "## 数组创建\n",
    "numpy提供的最重要的数据结构是ndarray，它是python中list的扩展"
   ]
  },
  {
   "cell_type": "markdown",
   "metadata": {},
   "source": [
    "### 依据现有数据来创建ndarray"
   ]
  },
  {
   "cell_type": "markdown",
   "metadata": {},
   "source": [
    "创建一维数组"
   ]
  },
  {
   "cell_type": "code",
   "execution_count": 43,
   "metadata": {},
   "outputs": [
    {
     "name": "stdout",
     "output_type": "stream",
     "text": [
      "[0 1 2 3 4] <class 'numpy.ndarray'>\n",
      "[0 1 2 3 4] <class 'numpy.ndarray'>\n"
     ]
    }
   ],
   "source": [
    "a=np.array([0,1,2,3,4])\n",
    "b=np.array([0,1,2,3,4])\n",
    "print(a,type(a))\n",
    "print(b,type(b))"
   ]
  },
  {
   "cell_type": "markdown",
   "metadata": {},
   "source": [
    "创建二维数组"
   ]
  },
  {
   "cell_type": "code",
   "execution_count": 44,
   "metadata": {},
   "outputs": [
    {
     "name": "stdout",
     "output_type": "stream",
     "text": [
      "[[11 22 33 44 55]\n",
      " [12 23 34 45 56]\n",
      " [21 32 43 54 65]\n",
      " [12 13 14 15 16]\n",
      " [21 22 23 24 25]] <class 'numpy.ndarray'>\n"
     ]
    }
   ],
   "source": [
    "c=np.array([[11,22,33,44,55],\n",
    "  [12,23,34,45,56],\n",
    "  [21,32,43,54,65],\n",
    "  [12,13,14,15,16],\n",
    "  [21,22,23,24,25]])\n",
    "print(c,type(c))"
   ]
  },
  {
   "cell_type": "markdown",
   "metadata": {},
   "source": [
    "创建三维数组"
   ]
  },
  {
   "cell_type": "code",
   "execution_count": 45,
   "metadata": {},
   "outputs": [
    {
     "name": "stdout",
     "output_type": "stream",
     "text": [
      "[[[1 3 5]\n",
      "  [4 5 6]]\n",
      "\n",
      " [[7 8 9]\n",
      "  [3 5 8]]] <class 'numpy.ndarray'>\n"
     ]
    }
   ],
   "source": [
    "d=np.array([[(1,3,5),(4,5,6)],\n",
    "           [(7,8,9),(3,5,8)]])\n",
    "print(d,type(d))"
   ]
  },
  {
   "cell_type": "markdown",
   "metadata": {},
   "source": [
    "### 通过asarray（）函数创建数组"
   ]
  },
  {
   "cell_type": "code",
   "execution_count": 46,
   "metadata": {},
   "outputs": [
    {
     "name": "stdout",
     "output_type": "stream",
     "text": [
      "[[1, 1, 1], [2, 2, 9], [3, 3, 3]] <class 'list'>\n",
      "[[1 1 1]\n",
      " [2 2 2]\n",
      " [3 3 3]] <class 'numpy.ndarray'>\n",
      "[[1 1 1]\n",
      " [2 2 2]\n",
      " [3 3 3]] <class 'numpy.ndarray'>\n"
     ]
    }
   ],
   "source": [
    "x=[[1,1,1],[2,2,2],[3,3,3]]\n",
    "y=np.array(x)\n",
    "z=np.asarray(x)\n",
    "x[1][2]=9\n",
    "print(x,type(x))\n",
    "print(y,type(y))\n",
    "print(z,type(z))"
   ]
  },
  {
   "cell_type": "code",
   "execution_count": 47,
   "metadata": {},
   "outputs": [
    {
     "name": "stdout",
     "output_type": "stream",
     "text": [
      "[[1. 1. 1.]\n",
      " [1. 1. 1.]\n",
      " [1. 1. 9.]] <class 'numpy.ndarray'>\n",
      "[[1. 1. 1.]\n",
      " [1. 1. 1.]\n",
      " [1. 1. 1.]] <class 'numpy.ndarray'>\n",
      "[[1. 1. 1.]\n",
      " [1. 1. 1.]\n",
      " [1. 1. 9.]] <class 'numpy.ndarray'>\n"
     ]
    }
   ],
   "source": [
    "a=np.ones((3,3))\n",
    "b=np.array(a)\n",
    "c=np.asarray(a)\n",
    "a[2][2]=9\n",
    "print(a,type(a))\n",
    "print(b,type(b))\n",
    "print(c,type(c))"
   ]
  },
  {
   "cell_type": "markdown",
   "metadata": {},
   "source": [
    "由此可见array()和asarray()主要区别就是当数据源是ndarray 时，array()仍然会 copy 出一个副本，占用新的内存，但不改变 dtype 时 asarray()不会返回的还是原来的数组a\n",
    "。"
   ]
  },
  {
   "cell_type": "markdown",
   "metadata": {},
   "source": [
    "### 通过fromfunction（）函数创建"
   ]
  },
  {
   "cell_type": "code",
   "execution_count": 48,
   "metadata": {},
   "outputs": [
    {
     "name": "stdout",
     "output_type": "stream",
     "text": [
      "[[ 0  1  2  3]\n",
      " [10 11 12 13]\n",
      " [20 21 22 23]\n",
      " [30 31 32 33]\n",
      " [40 41 42 43]]\n"
     ]
    }
   ],
   "source": [
    "def f(x,y):\n",
    "    return 10*x+y\n",
    "\n",
    "x=np.fromfunction(f,(5,4),dtype=int)\n",
    "print(x)"
   ]
  },
  {
   "cell_type": "code",
   "execution_count": 49,
   "metadata": {},
   "outputs": [
    {
     "name": "stdout",
     "output_type": "stream",
     "text": [
      "[[ True False False]\n",
      " [False  True False]\n",
      " [False False  True]]\n"
     ]
    }
   ],
   "source": [
    "x = np.fromfunction(lambda i, j: i == j, (3, 3), dtype=int)\n",
    "# 数组元素个位十位数字相同\n",
    "print(x)"
   ]
  },
  {
   "cell_type": "code",
   "execution_count": 50,
   "metadata": {},
   "outputs": [
    {
     "name": "stdout",
     "output_type": "stream",
     "text": [
      "[[0 1 2]\n",
      " [1 2 3]\n",
      " [2 3 4]]\n"
     ]
    }
   ],
   "source": [
    "x = np.fromfunction(lambda i, j: i + j, (3, 3), dtype=int)\n",
    "print(x)"
   ]
  },
  {
   "cell_type": "markdown",
   "metadata": {},
   "source": [
    "### 初始化依据ones和zeros填充方式\n",
    "\n",
    "- 0数组"
   ]
  },
  {
   "cell_type": "code",
   "execution_count": 51,
   "metadata": {},
   "outputs": [
    {
     "name": "stdout",
     "output_type": "stream",
     "text": [
      "[0. 0. 0. 0. 0.] <class 'numpy.ndarray'>\n"
     ]
    }
   ],
   "source": [
    "x=np.zeros(5)\n",
    "print(x,type(x))"
   ]
  },
  {
   "cell_type": "code",
   "execution_count": 52,
   "metadata": {},
   "outputs": [
    {
     "name": "stdout",
     "output_type": "stream",
     "text": [
      "[[0. 0. 0.]\n",
      " [0. 0. 0.]] <class 'numpy.ndarray'>\n"
     ]
    }
   ],
   "source": [
    "x=np.zeros([2,3])\n",
    "print(x,type(x))"
   ]
  },
  {
   "cell_type": "code",
   "execution_count": 53,
   "metadata": {},
   "outputs": [
    {
     "name": "stdout",
     "output_type": "stream",
     "text": [
      "[[1 2 3]\n",
      " [4 5 6]] <class 'numpy.ndarray'>\n",
      "[[0 0 0]\n",
      " [0 0 0]] <class 'numpy.ndarray'>\n"
     ]
    }
   ],
   "source": [
    "x=np.array([[1,2,3],\n",
    "          [4,5,6]])\n",
    "y=np.zeros_like(x)\n",
    "print(x,type(x))\n",
    "print(y,type(y))"
   ]
  },
  {
   "cell_type": "markdown",
   "metadata": {},
   "source": [
    "- 1数组"
   ]
  },
  {
   "cell_type": "code",
   "execution_count": 54,
   "metadata": {},
   "outputs": [
    {
     "name": "stdout",
     "output_type": "stream",
     "text": [
      "[1. 1. 1. 1. 1.] <class 'numpy.ndarray'>\n"
     ]
    }
   ],
   "source": [
    "x=np.ones(5)\n",
    "print(x,type(x))"
   ]
  },
  {
   "cell_type": "code",
   "execution_count": 55,
   "metadata": {},
   "outputs": [
    {
     "name": "stdout",
     "output_type": "stream",
     "text": [
      "[[1. 1. 1.]\n",
      " [1. 1. 1.]] <class 'numpy.ndarray'>\n"
     ]
    }
   ],
   "source": [
    "x=np.ones([2,3])\n",
    "print(x,type(x))"
   ]
  },
  {
   "cell_type": "code",
   "execution_count": 56,
   "metadata": {},
   "outputs": [
    {
     "name": "stdout",
     "output_type": "stream",
     "text": [
      "[[1 2 3]\n",
      " [4 5 6]] <class 'numpy.ndarray'>\n",
      "[[1 1 1]\n",
      " [1 1 1]] <class 'numpy.ndarray'>\n"
     ]
    }
   ],
   "source": [
    "x=np.array([[1,2,3],\n",
    "          [4,5,6]])\n",
    "y=np.ones_like(x)\n",
    "print(x,type(x))\n",
    "print(y,type(y))"
   ]
  },
  {
   "cell_type": "markdown",
   "metadata": {},
   "source": [
    "- 空数组"
   ]
  },
  {
   "cell_type": "code",
   "execution_count": 57,
   "metadata": {},
   "outputs": [
    {
     "name": "stdout",
     "output_type": "stream",
     "text": [
      "[1. 1. 1. 1. 1.] <class 'numpy.ndarray'>\n"
     ]
    }
   ],
   "source": [
    "n=np.empty(5)\n",
    "print(n,type(n))"
   ]
  },
  {
   "cell_type": "code",
   "execution_count": 58,
   "metadata": {},
   "outputs": [
    {
     "name": "stdout",
     "output_type": "stream",
     "text": [
      "[[1. 1. 1.]\n",
      " [1. 1. 1.]] <class 'numpy.ndarray'>\n"
     ]
    }
   ],
   "source": [
    "n=np.empty([2,3])\n",
    "print(n,type(n))"
   ]
  },
  {
   "cell_type": "code",
   "execution_count": 59,
   "metadata": {},
   "outputs": [
    {
     "name": "stdout",
     "output_type": "stream",
     "text": [
      "[[1 2 3]\n",
      " [4 5 6]] <class 'numpy.ndarray'>\n",
      "[[1 2 3]\n",
      " [4 5 6]] <class 'numpy.ndarray'>\n"
     ]
    }
   ],
   "source": [
    "x=np.array([[1,2,3],\n",
    "          [4,5,6]])\n",
    "y=np.empty_like(x)\n",
    "print(x,type(x))\n",
    "print(y,type(y))"
   ]
  },
  {
   "cell_type": "markdown",
   "metadata": {},
   "source": [
    "### 单位数组\n",
    "- eye（）函数：返回一个对角线上为1，其他地方为0的单位数组\n",
    "- identity（）函数：返回一个方的单位数组"
   ]
  },
  {
   "cell_type": "code",
   "execution_count": 60,
   "metadata": {},
   "outputs": [
    {
     "name": "stdout",
     "output_type": "stream",
     "text": [
      "[[1. 0. 0. 0. 0.]\n",
      " [0. 1. 0. 0. 0.]\n",
      " [0. 0. 1. 0. 0.]\n",
      " [0. 0. 0. 1. 0.]\n",
      " [0. 0. 0. 0. 1.]] <class 'numpy.ndarray'>\n"
     ]
    }
   ],
   "source": [
    "x=np.eye(5)\n",
    "print(x,type(x))"
   ]
  },
  {
   "cell_type": "code",
   "execution_count": 63,
   "metadata": {},
   "outputs": [
    {
     "name": "stdout",
     "output_type": "stream",
     "text": [
      "[[1. 0. 0.]\n",
      " [0. 1. 0.]] <class 'numpy.ndarray'>\n"
     ]
    }
   ],
   "source": [
    "x=np.eye(2,3)\n",
    "print(x,type(x))"
   ]
  },
  {
   "cell_type": "code",
   "execution_count": 64,
   "metadata": {},
   "outputs": [
    {
     "name": "stdout",
     "output_type": "stream",
     "text": [
      "[[1. 0. 0. 0.]\n",
      " [0. 1. 0. 0.]\n",
      " [0. 0. 1. 0.]\n",
      " [0. 0. 0. 1.]] <class 'numpy.ndarray'>\n"
     ]
    }
   ],
   "source": [
    "x=np.identity(4)\n",
    "print(x,type(x))"
   ]
  },
  {
   "cell_type": "markdown",
   "metadata": {},
   "source": [
    "### 对角数组\n",
    "- diag()函数：提取对角线或者构造对角数组"
   ]
  },
  {
   "cell_type": "code",
   "execution_count": 77,
   "metadata": {},
   "outputs": [
    {
     "name": "stdout",
     "output_type": "stream",
     "text": [
      "[[10 11 12]\n",
      " [13 14 15]\n",
      " [16 17 18]] <class 'numpy.ndarray'>\n",
      "输出数组的对角线上的数字： [10 14 18]\n",
      "输出向上平移一步的对角线： [11 15]\n",
      "输出向下平移一部的对角线： [13 17]\n"
     ]
    }
   ],
   "source": [
    "x=np.arange(10,19).reshape((3,3))\n",
    "print(x,type(x))\n",
    "print('输出数组的对角线上的数字：',np.diag(x))\n",
    "print('输出向上平移一步的对角线：',np.diag(x,k=1))\n",
    "print('输出向下平移一部的对角线：',np.diag(x,k=-1))"
   ]
  },
  {
   "cell_type": "markdown",
   "metadata": {},
   "source": [
    "3x3的数组，对角线有有三条，往上下平移得到两条，k默认为0，指最中间的那条，向上+1，向下-1"
   ]
  },
  {
   "cell_type": "markdown",
   "metadata": {},
   "source": [
    "### 常数数组\n",
    "- full()函数：返回一个常数数组\n",
    "- full_like()函数：返回与给定数组相似的形状和类型的常数数组"
   ]
  },
  {
   "cell_type": "code",
   "execution_count": 78,
   "metadata": {},
   "outputs": [
    {
     "name": "stdout",
     "output_type": "stream",
     "text": [
      "[7 7] <class 'numpy.ndarray'>\n"
     ]
    }
   ],
   "source": [
    "x=np.full((2,),7)\n",
    "print(x,type(x))"
   ]
  },
  {
   "cell_type": "code",
   "execution_count": 79,
   "metadata": {},
   "outputs": [
    {
     "name": "stdout",
     "output_type": "stream",
     "text": [
      "[7 7] <class 'numpy.ndarray'>\n"
     ]
    }
   ],
   "source": [
    "x=np.full(2,7)\n",
    "print(x,type(x))"
   ]
  },
  {
   "cell_type": "code",
   "execution_count": 81,
   "metadata": {},
   "outputs": [
    {
     "name": "stdout",
     "output_type": "stream",
     "text": [
      "[[5 5 5 5]\n",
      " [5 5 5 5]\n",
      " [5 5 5 5]] <class 'numpy.ndarray'>\n"
     ]
    }
   ],
   "source": [
    "x=np.full((3,4),5)\n",
    "print(x,type(x))"
   ]
  },
  {
   "cell_type": "code",
   "execution_count": 83,
   "metadata": {},
   "outputs": [
    {
     "name": "stdout",
     "output_type": "stream",
     "text": [
      "[[8 8 8]\n",
      " [8 8 8]] <class 'numpy.ndarray'>\n"
     ]
    }
   ],
   "source": [
    "x=np.array([[1,2,3],\n",
    "           [3,4,5]])\n",
    "y=np.full_like(x,8)\n",
    "print(y,type(y))"
   ]
  },
  {
   "cell_type": "markdown",
   "metadata": {},
   "source": [
    "### 利用数值范围来创建ndarray\n",
    "- arange()函数：返回给定间隔内的均匀间隔的值\n",
    "- linespace()函数：返回指定间隔内的等间隔数字\n",
    "- logspace()函数：返回数以对数刻度分布均匀分布\n",
    "- numpy.random.rand()：返回一个由[0，1)内的随机数组成的数组"
   ]
  },
  {
   "cell_type": "code",
   "execution_count": 84,
   "metadata": {},
   "outputs": [
    {
     "name": "stdout",
     "output_type": "stream",
     "text": [
      "[0 1 2 3 4] <class 'numpy.ndarray'>\n"
     ]
    }
   ],
   "source": [
    "x=np.arange(5)\n",
    "print(x,type(x))"
   ]
  },
  {
   "cell_type": "code",
   "execution_count": 85,
   "metadata": {},
   "outputs": [
    {
     "name": "stdout",
     "output_type": "stream",
     "text": [
      "[1 3 5 7] <class 'numpy.ndarray'>\n"
     ]
    }
   ],
   "source": [
    "x=np.arange(1,9,2)\n",
    "print(x,type(x))"
   ]
  },
  {
   "cell_type": "code",
   "execution_count": 86,
   "metadata": {},
   "outputs": [
    {
     "name": "stdout",
     "output_type": "stream",
     "text": [
      "[0.   0.25 0.5  0.75 1.   1.25 1.5  1.75 2.  ] <class 'numpy.ndarray'>\n"
     ]
    }
   ],
   "source": [
    "x=np.linspace(start=0,stop=2,num=9)\n",
    "print(x,type(x))"
   ]
  },
  {
   "cell_type": "code",
   "execution_count": 88,
   "metadata": {},
   "outputs": [
    {
     "name": "stdout",
     "output_type": "stream",
     "text": [
      "[ 1.    1.78  3.16  5.62 10.  ]\n"
     ]
    }
   ],
   "source": [
    "x=np.logspace(0,1,5)\n",
    "print(np.around(x,2))"
   ]
  },
  {
   "cell_type": "code",
   "execution_count": 89,
   "metadata": {},
   "outputs": [
    {
     "name": "stdout",
     "output_type": "stream",
     "text": [
      "[ 1.    1.78  3.16  5.62 10.  ]\n"
     ]
    }
   ],
   "source": [
    "x = np.linspace(start=0, stop=1, num=5)\n",
    "x = [10 ** i for i in x]\n",
    "print(np.around(x, 2))"
   ]
  },
  {
   "cell_type": "code",
   "execution_count": 90,
   "metadata": {},
   "outputs": [
    {
     "name": "stdout",
     "output_type": "stream",
     "text": [
      "[0.14525983 0.8650746  0.13547021 0.71788577 0.67032493]\n"
     ]
    }
   ],
   "source": [
    "x = np.random.random(5)\n",
    "print(x)"
   ]
  },
  {
   "cell_type": "code",
   "execution_count": 92,
   "metadata": {},
   "outputs": [
    {
     "name": "stdout",
     "output_type": "stream",
     "text": [
      "[[0.56098337 0.64933814 0.58632084]\n",
      " [0.13975688 0.67226493 0.78020954]] <class 'numpy.ndarray'>\n"
     ]
    }
   ],
   "source": [
    "x = np.random.random([2,3])\n",
    "print(x,type(x))"
   ]
  },
  {
   "cell_type": "markdown",
   "metadata": {},
   "source": [
    "### 结构数组的创建\n",
    "结构数组，首先需要定义结构，然后利用np.array()来创建数组，其中参数dtype为定义的结构"
   ]
  },
  {
   "cell_type": "markdown",
   "metadata": {},
   "source": [
    "- 利用字典来定义结构"
   ]
  },
  {
   "cell_type": "code",
   "execution_count": 94,
   "metadata": {},
   "outputs": [
    {
     "name": "stdout",
     "output_type": "stream",
     "text": [
      "[('liming', 24, 64.5) ('mike', 25, 66. ) ('anna', 32, 50. )] <class 'numpy.ndarray'>\n"
     ]
    }
   ],
   "source": [
    "pType=np.dtype({'names':['name','age','weight'],\n",
    "               'formats':['U30','i8','f8']})\n",
    "a=np.array([('liming',24,64.5),\n",
    "           ('mike',25,66),\n",
    "           ('anna',32,50)],\n",
    "          dtype=pType)\n",
    "print(a,type(a))"
   ]
  },
  {
   "cell_type": "markdown",
   "metadata": {},
   "source": [
    "- 利用包含多个元组的列表来定义结构"
   ]
  },
  {
   "cell_type": "code",
   "execution_count": 100,
   "metadata": {},
   "outputs": [
    {
     "name": "stdout",
     "output_type": "stream",
     "text": [
      "数组全部元素: [('liming', 24, 64.5) ('mike', 25, 66. ) ('anna', 32, 50. )] <class 'numpy.ndarray'>\n",
      "数组第一个元素: ('liming', 24, 64.5)\n",
      "数组倒数两个元素： [('mike', 25, 66.) ('anna', 32, 50.)]\n",
      "数组中所有人名： ['liming' 'mike' 'anna']\n",
      "数组中所有人年纪： [24 25 32]\n",
      "数组中所有人年纪： [64.5 66.  50. ]\n"
     ]
    }
   ],
   "source": [
    "pType=np.dtype({'names':['name','age','weight'],\n",
    "               'formats':['U30','i8','f8']})\n",
    "a=np.array([('liming',24,64.5),\n",
    "           ('mike',25,66),\n",
    "           ('anna',32,50)],\n",
    "          dtype=pType)\n",
    "print('数组全部元素:',a,type(a))\n",
    "print('数组第一个元素:',a[0])\n",
    "print('数组倒数两个元素：',a[-2:])\n",
    "print('数组中所有人名：',a['name'])\n",
    "print('数组中所有人年纪：',a['age'])\n",
    "print('数组中所有人年纪：',a['weight'])\n"
   ]
  },
  {
   "cell_type": "markdown",
   "metadata": {},
   "source": [
    "## 数组的属性\n",
    "- numpy.ndarray.ndim用于返回数组的维数，也称为秩，一维的秩是1，二维我i数组的秩是2，以此类推\n",
    "- numpy.ndarray.shape表示数组的维度，返回一个元组，这个元组的长度就是一个维度的数目，即ndim属性（秩）\n",
    "- numpy.ndarray.size表示数组内所有元素的总量，相当于数组的shape中所有的元素的乘积，例如矩阵中的元素的总量是行列的乘积\n",
    "- numpy.adarray.dtype:ndarray对象的数据类型\n",
    "- numpy.adarray.itemsize以字节的形式返回数组中的每一个元素的大小"
   ]
  },
  {
   "cell_type": "code",
   "execution_count": 102,
   "metadata": {},
   "outputs": [
    {
     "name": "stdout",
     "output_type": "stream",
     "text": [
      "(5,)\n",
      "int32\n",
      "5\n",
      "1\n",
      "4\n"
     ]
    }
   ],
   "source": [
    "a=np.array([1,2,3,4,5])\n",
    "print(a.shape)\n",
    "print(a.dtype)\n",
    "print(a.size)\n",
    "print(a.ndim)\n",
    "print(a.itemsize)"
   ]
  },
  {
   "cell_type": "code",
   "execution_count": 104,
   "metadata": {},
   "outputs": [
    {
     "name": "stdout",
     "output_type": "stream",
     "text": [
      "(2, 4)\n",
      "float64\n",
      "8\n",
      "2\n",
      "8\n"
     ]
    }
   ],
   "source": [
    "b=np.array([[1,2,3,4],[5,6,7,8.0]])\n",
    "print(b.shape)\n",
    "print(b.dtype)\n",
    "print(b.size)\n",
    "print(b.ndim)\n",
    "print(b.itemsize)"
   ]
  },
  {
   "cell_type": "markdown",
   "metadata": {},
   "source": [
    "在ndarray中所有的元素必须是同一种类型，否则就会自动向下转换int->float->str"
   ]
  },
  {
   "cell_type": "code",
   "execution_count": 111,
   "metadata": {},
   "outputs": [
    {
     "name": "stdout",
     "output_type": "stream",
     "text": [
      "[1 2 3 4] int32\n"
     ]
    }
   ],
   "source": [
    "x=np.array([1,2,3,4])\n",
    "print(x,x.dtype)"
   ]
  },
  {
   "cell_type": "code",
   "execution_count": 109,
   "metadata": {},
   "outputs": [
    {
     "name": "stdout",
     "output_type": "stream",
     "text": [
      "[1. 2. 3. 4.] float64\n"
     ]
    }
   ],
   "source": [
    "x=np.array([1,2,3,4.0])\n",
    "print(x,x.dtype)"
   ]
  },
  {
   "cell_type": "code",
   "execution_count": 108,
   "metadata": {},
   "outputs": [
    {
     "name": "stdout",
     "output_type": "stream",
     "text": [
      "['1' '2' '3' '4'] <U11\n"
     ]
    }
   ],
   "source": [
    "x=np.array([1,2,3,'4'])\n",
    "print(x,x.dtype)"
   ]
  },
  {
   "cell_type": "code",
   "execution_count": null,
   "metadata": {},
   "outputs": [],
   "source": []
  },
  {
   "cell_type": "code",
   "execution_count": null,
   "metadata": {},
   "outputs": [],
   "source": []
  }
 ],
 "metadata": {
  "kernelspec": {
   "display_name": "Python 3",
   "language": "python",
   "name": "python3"
  },
  "language_info": {
   "codemirror_mode": {
    "name": "ipython",
    "version": 3
   },
   "file_extension": ".py",
   "mimetype": "text/x-python",
   "name": "python",
   "nbconvert_exporter": "python",
   "pygments_lexer": "ipython3",
   "version": "3.8.3"
  }
 },
 "nbformat": 4,
 "nbformat_minor": 4
}
