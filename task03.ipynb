{
 "cells": [
  {
   "cell_type": "code",
   "execution_count": 1,
   "metadata": {},
   "outputs": [],
   "source": [
    "import numpy as np\n"
   ]
  },
  {
   "cell_type": "markdown",
   "metadata": {},
   "source": [
    "# 数组操作\n",
    "## 更改形状\n",
    "在对数组进行操作时，为了满足格式和计算的要求通常会改变其形状\n",
    "- numpy.ndarray.shape表示数组的维度，返回一个元组，这个元组的长度就是维度的数目，及ndim属性（秩）"
   ]
  },
  {
   "cell_type": "code",
   "execution_count": 3,
   "metadata": {},
   "outputs": [
    {
     "name": "stdout",
     "output_type": "stream",
     "text": [
      "(9,)\n",
      "=============\n",
      "[[1 2 3]\n",
      " [4 5 6]\n",
      " [7 8 9]]\n"
     ]
    }
   ],
   "source": [
    "x=np.array([1,2,3,4,5,6,7,8,9])\n",
    "print(x.shape)\n",
    "x.shape=[3,3]\n",
    "print('=============')\n",
    "print(x)\n"
   ]
  },
  {
   "cell_type": "markdown",
   "metadata": {},
   "source": [
    "- numpy.narray.flat将数组转换为一维的迭代器，可以用for访问数组的每一个元素"
   ]
  },
  {
   "cell_type": "code",
   "execution_count": 9,
   "metadata": {},
   "outputs": [
    {
     "name": "stdout",
     "output_type": "stream",
     "text": [
      "<numpy.flatiter object at 0x00000225E0EA56A0>\n",
      "============\n",
      "11 22 33 44 55 23 34 45 56 67 66 77 88 99 98 32 33 34 45 66 55 56 67 58 78 =================\n",
      "\n",
      "[[11 22 33  0 55]\n",
      " [23 34 45 56 67]\n",
      " [66 77 88 99 98]\n",
      " [32 33 34 45 66]\n",
      " [55 56 67 58 78]]\n"
     ]
    }
   ],
   "source": [
    "x=np.array([[11,22,33,44,55],\n",
    "           [23,34,45,56,67],\n",
    "           [66,77,88,99,98],\n",
    "           [32,33,34,45,66],\n",
    "           [55,56,67,58,78]])\n",
    "y=x.flat\n",
    "print(y)\n",
    "print('============')\n",
    "for i in y:\n",
    "    print(i,end=' ')\n",
    "    \n",
    "y[3]=0\n",
    "print('=================')\n",
    "print(end='\\n')\n",
    "print(x)"
   ]
  },
  {
   "cell_type": "markdown",
   "metadata": {},
   "source": [
    "- numpy.ndarray.flatten([order='C']) 将数组的副本转换为一维数组，并返回。\n",
    "- order：'C' -- 按行，'F' -- 按列，'A' -- 原顺序，'k' -- 元素在内存中的出现顺序。(简记)\n",
    "- order：{'C / F，'A，K}，可选使用此索引顺序读取a的元素。'C'意味着以行大的C风格顺序对元素进行索引，最后一个轴索引会更改F表示以列大的Fortran样式顺序索引元素，其中第一个索引变化最快，最后一个索引变化最快。\n",
    "- 请注意，'C'和'F'选项不考虑基础数组的内存布局，仅引用轴索引的顺序.A'表示如果a为Fortran，则以类似Fortran的索引顺序读取元素在内存中连续，否则类似C的顺序。\n",
    "- “ K”表示按照步序在内存中的顺序读取元素，但步幅为负时反转数据除外。默认情况下，使用Cindex顺序。"
   ]
  },
  {
   "cell_type": "code",
   "execution_count": 11,
   "metadata": {},
   "outputs": [
    {
     "name": "stdout",
     "output_type": "stream",
     "text": [
      "[11 22 33 44 55 23 34 45 56 67 66 77 88 99 98 32 33 34 45 66 55 56 67 58\n",
      " 78]\n",
      "==================\n",
      "[11 22 33  0 55 23 34 45 56 67 66 77 88 99 98 32 33 34 45 66 55 56 67 58\n",
      " 78]\n"
     ]
    }
   ],
   "source": [
    "x=np.array([[11,22,33,44,55],\n",
    "           [23,34,45,56,67],\n",
    "           [66,77,88,99,98],\n",
    "           [32,33,34,45,66],\n",
    "           [55,56,67,58,78]])\n",
    "y=x.flatten()\n",
    "print(y)\n",
    "print('==================')\n",
    "y[3]=0\n",
    "print(y)"
   ]
  },
  {
   "cell_type": "code",
   "execution_count": 15,
   "metadata": {},
   "outputs": [
    {
     "name": "stdout",
     "output_type": "stream",
     "text": [
      "[11 23 66  0 55 22 34 77 33 56 33 45 88 34 67 44 56 99 45 58 55 67 98 66\n",
      " 78]\n",
      "---------------------------\n",
      "[[11 22 33 44 55]\n",
      " [23 34 45 56 67]\n",
      " [66 77 88 99 98]\n",
      " [32 33 34 45 66]\n",
      " [55 56 67 58 78]]\n"
     ]
    }
   ],
   "source": [
    "x=np.array([[11,22,33,44,55],\n",
    "           [23,34,45,56,67],\n",
    "           [66,77,88,99,98],\n",
    "           [32,33,34,45,66],\n",
    "           [55,56,67,58,78]])\n",
    "y=x.flatten(order='F')\n",
    "y[3]=0\n",
    "print(y)\n",
    "print('---------------------------')\n",
    "print(x)"
   ]
  },
  {
   "cell_type": "markdown",
   "metadata": {},
   "source": [
    "- numpy.ravel(a, order='C')"
   ]
  },
  {
   "cell_type": "code",
   "execution_count": 18,
   "metadata": {},
   "outputs": [
    {
     "name": "stdout",
     "output_type": "stream",
     "text": [
      "[11 22 33 44 55 23 34 45 56 67 66 77 88 99 98 32 33 34 45 66 55 56 67 58\n",
      " 78]\n",
      "===============\n",
      "[[11 22 33  0 55]\n",
      " [23 34 45 56 67]\n",
      " [66 77 88 99 98]\n",
      " [32 33 34 45 66]\n",
      " [55 56 67 58 78]]\n"
     ]
    }
   ],
   "source": [
    "x=np.array([[11,22,33,44,55],\n",
    "           [23,34,45,56,67],\n",
    "           [66,77,88,99,98],\n",
    "           [32,33,34,45,66],\n",
    "           [55,56,67,58,78]])\n",
    "y=np.ravel(x)\n",
    "print(y)\n",
    "print('===============')\n",
    "y[3]=0\n",
    "print(x)"
   ]
  },
  {
   "cell_type": "markdown",
   "metadata": {},
   "source": [
    "order ='F'代表是拷贝，原始数据据不会发生改变"
   ]
  },
  {
   "cell_type": "code",
   "execution_count": 20,
   "metadata": {},
   "outputs": [
    {
     "name": "stdout",
     "output_type": "stream",
     "text": [
      "[11 23 66 32 55 22 34 77 33 56 33 45 88 34 67 44 56 99 45 58 55 67 98 66\n",
      " 78]\n",
      "===========\n",
      "[[11 22 33 44 55]\n",
      " [23 34 45 56 67]\n",
      " [66 77 88 99 98]\n",
      " [32 33 34 45 66]\n",
      " [55 56 67 58 78]]\n"
     ]
    }
   ],
   "source": [
    "x=np.array([[11,22,33,44,55],\n",
    "           [23,34,45,56,67],\n",
    "           [66,77,88,99,98],\n",
    "           [32,33,34,45,66],\n",
    "           [55,56,67,58,78]])\n",
    "y=np.ravel(x,order='F')\n",
    "print(y)\n",
    "y[3]=0\n",
    "print('===========')\n",
    "print(x)"
   ]
  },
  {
   "cell_type": "markdown",
   "metadata": {},
   "source": [
    "- numpy.reshape(a, newshape[, order='C'])在不更改数据的情况下为数组赋予新的形状。"
   ]
  },
  {
   "cell_type": "code",
   "execution_count": 24,
   "metadata": {},
   "outputs": [
    {
     "name": "stdout",
     "output_type": "stream",
     "text": [
      "int32\n",
      "[[ 0  1  2  3]\n",
      " [ 4  5  6  7]\n",
      " [ 8  9 10 11]]\n",
      "============\n",
      "[[ 0  1  2  3]\n",
      " [ 4  5  6  7]\n",
      " [ 8  9 10 11]]\n",
      "==============\n",
      "[[ 0  1  2]\n",
      " [ 3  4  5]\n",
      " [ 6  7  8]\n",
      " [ 9 10 11]]\n",
      "[ 0 22  2  3  4  5  6  7  8  9 10 11]\n"
     ]
    }
   ],
   "source": [
    "x=np.arange(12)\n",
    "y=np.reshape(x,[3,4])\n",
    "print(y.dtype)\n",
    "print(y)\n",
    "print('============')\n",
    "y=np.reshape(x,[3,-1])\n",
    "print(y)\n",
    "print('==============')\n",
    "y=np.reshape(x,[-1,3])\n",
    "print(y)\n",
    "y[0,1]=22\n",
    "print(x)"
   ]
  },
  {
   "cell_type": "code",
   "execution_count": 28,
   "metadata": {},
   "outputs": [
    {
     "name": "stdout",
     "output_type": "stream",
     "text": [
      "[[[ 2  1  6  0]\n",
      "  [ 9  7 10  0]\n",
      "  [ 2  5  6  4]]\n",
      "\n",
      " [[ 5  4  2  7]\n",
      "  [ 8  9 10  9]\n",
      "  [ 9  2  1 11]]]\n",
      "================\n",
      "[ 2  1  6  0  9  7 10  0  2  5  6  4  5  4  2  7  8  9 10  9  9  2  1 11]\n"
     ]
    }
   ],
   "source": [
    "x=np.random.randint(12,size=[2,3,4])\n",
    "print(x)\n",
    "print('================')\n",
    "y=np.reshape(x,-1)\n",
    "print(y)"
   ]
  },
  {
   "cell_type": "markdown",
   "metadata": {},
   "source": [
    "## 数据转置\n",
    "- numpy.transpose(a, axes=None) \n",
    "- numpy.ndarray.T Same as self.transpose()."
   ]
  },
  {
   "cell_type": "code",
   "execution_count": 32,
   "metadata": {},
   "outputs": [
    {
     "name": "stdout",
     "output_type": "stream",
     "text": [
      "[[4.53 5.2  0.04 8.62 5.95]\n",
      " [0.25 4.49 5.92 3.11 6.54]\n",
      " [9.22 0.97 5.04 0.29 9.72]\n",
      " [3.   0.4  0.38 1.32 4.93]\n",
      " [8.41 0.58 9.35 2.73 0.42]]\n",
      "==============\n",
      "[[4.53 0.25 9.22 3.   8.41]\n",
      " [5.2  4.49 0.97 0.4  0.58]\n",
      " [0.04 5.92 5.04 0.38 9.35]\n",
      " [8.62 3.11 0.29 1.32 2.73]\n",
      " [5.95 6.54 9.72 4.93 0.42]]\n",
      "==============\n",
      "[[4.53 0.25 9.22 3.   8.41]\n",
      " [5.2  4.49 0.97 0.4  0.58]\n",
      " [0.04 5.92 5.04 0.38 9.35]\n",
      " [8.62 3.11 0.29 1.32 2.73]\n",
      " [5.95 6.54 9.72 4.93 0.42]]\n"
     ]
    }
   ],
   "source": [
    "x = np.random.rand(5, 5) * 10\n",
    "x = np.around(x, 2)\n",
    "print(x)\n",
    "print('==============')\n",
    "y=x.T\n",
    "print(y)\n",
    "print('==============')\n",
    "y=np.transpose(x)\n",
    "print(y)"
   ]
  },
  {
   "cell_type": "markdown",
   "metadata": {},
   "source": [
    "## 更改维度\n",
    "- 当创建一个数组之后，还可以给它增加一个维度，这在矩阵计算中经常会用到。\n",
    "\n",
    "- numpy.newaxis = None None的别名，对索引数组很有用。"
   ]
  },
  {
   "cell_type": "code",
   "execution_count": 36,
   "metadata": {},
   "outputs": [
    {
     "name": "stdout",
     "output_type": "stream",
     "text": [
      "(8,)\n",
      "[1 2 4 6 7 9 5 8]\n",
      "===============\n",
      "(1, 8)\n",
      "[1 2 4 6 7 9 5 8]\n",
      "================\n",
      "(8, 1)\n",
      "[[1]\n",
      " [2]\n",
      " [4]\n",
      " [6]\n",
      " [7]\n",
      " [9]\n",
      " [5]\n",
      " [8]]\n"
     ]
    }
   ],
   "source": [
    "x=np.array([1,2,4,6,7,9,5,8])\n",
    "print(x.shape)\n",
    "print(x)\n",
    "print('===============')\n",
    "y=x[np.newaxis,:]\n",
    "print(y.shape)\n",
    "print(x)\n",
    "print('================')\n",
    "y=x[:,np.newaxis]\n",
    "print(y.shape)\n",
    "print(y)"
   ]
  },
  {
   "cell_type": "markdown",
   "metadata": {},
   "source": [
    "- numpy.squeeze(a, axis=None) 从数组的形状中删除单维度条目，即把shape中为1的维度去掉。\n",
    "- a表示输入的数组；\n",
    "- axis用于指定需要删除的维度，但是指定的维度必须为单维度，否则将会报错；\n",
    "- 在机器学习和深度学习中，通常算法的结果是可以表示向量的数组（即包含两对或以上的方括号形式[[]]），如果直接利用这个数组进行画图可能显示界面为空（见后面的示例）。我们可以利用squeeze()函数将表示向量的数组转换为秩为1的数组，这样利用 matplotlib 库函数画图时，就可以正常的显示结果了。"
   ]
  },
  {
   "cell_type": "code",
   "execution_count": 39,
   "metadata": {},
   "outputs": [
    {
     "name": "stdout",
     "output_type": "stream",
     "text": [
      "(10,)\n",
      "(1, 10)\n",
      "(10,)\n"
     ]
    }
   ],
   "source": [
    "x=np.arange(10)\n",
    "print(x.shape)\n",
    "x=x[np.newaxis,:]\n",
    "print(x.shape)\n",
    "y=np.squeeze(x)\n",
    "print(y.shape)"
   ]
  },
  {
   "cell_type": "code",
   "execution_count": 43,
   "metadata": {},
   "outputs": [
    {
     "name": "stdout",
     "output_type": "stream",
     "text": [
      "[[[0]\n",
      "  [1]\n",
      "  [2]]]\n",
      "(1, 3, 1)\n",
      "==================\n",
      "(3,)\n",
      "[0 1 2]\n",
      "======================\n",
      "(3, 1)\n",
      "[[0]\n",
      " [1]\n",
      " [2]]\n",
      "=========\n",
      "(1, 3)\n",
      "[[0 1 2]]\n"
     ]
    }
   ],
   "source": [
    "x=np.array([[[0],[1],[2]]])\n",
    "print(x)\n",
    "print(x.shape)\n",
    "print('==================')\n",
    "y=np.squeeze(x)  # 转换成一维数组\n",
    "print(y.shape)\n",
    "print(y)\n",
    "print('======================')\n",
    "y=np.squeeze(x,axis=0)\n",
    "print(y.shape)\n",
    "print(y)\n",
    "print('=========')\n",
    "y=np.squeeze(x,axis=2)  # 这里的axis的取值不能是1，默认是一维的数组\n",
    "print(y.shape)\n",
    "print(y)"
   ]
  },
  {
   "cell_type": "code",
   "execution_count": 44,
   "metadata": {},
   "outputs": [
    {
     "name": "stdout",
     "output_type": "stream",
     "text": [
      "(1, 5)\n",
      "[[ 1  4  9 16 25]]\n"
     ]
    },
    {
     "data": {
      "image/png": "[encoded data removed]",
      "text/plain": [
       "<Figure size 432x288 with 1 Axes>"
      ]
     },
     "metadata": {
      "needs_background": "light"
     },
     "output_type": "display_data"
    }
   ],
   "source": [
    "import matplotlib.pyplot as plt\n",
    "x=np.array([[1,4,9,16,25]])\n",
    "print(x.shape)\n",
    "print(x)\n",
    "plt.plot(x)\n",
    "plt.show()"
   ]
  },
  {
   "cell_type": "code",
   "execution_count": 45,
   "metadata": {},
   "outputs": [
    {
     "name": "stdout",
     "output_type": "stream",
     "text": [
      "(5,)\n"
     ]
    },
    {
     "data": {
      "image/png": "[encoded data removed]",
      "text/plain": [
       "<Figure size 432x288 with 1 Axes>"
      ]
     },
     "metadata": {
      "needs_background": "light"
     },
     "output_type": "display_data"
    }
   ],
   "source": [
    "x=np.squeeze(x)\n",
    "print(x.shape)\n",
    "plt.plot(x)\n",
    "plt.show()"
   ]
  },
  {
   "cell_type": "markdown",
   "metadata": {},
   "source": [
    "## 数组组合\n",
    "- 如果要将两份数据组合到一起，就需要拼接操作。\n",
    "\n",
    "- numpy.concatenate((a1, a2, ...), axis=0, out=None) "
   ]
  },
  {
   "cell_type": "code",
   "execution_count": 49,
   "metadata": {},
   "outputs": [
    {
     "name": "stdout",
     "output_type": "stream",
     "text": [
      "[1 2 3 4 6 7 8 9]\n",
      "===\n",
      "[1 2 3 4 6 7 8 9]\n",
      "===\n"
     ]
    },
    {
     "ename": "AxisError",
     "evalue": "axis 1 is out of bounds for array of dimension 1",
     "output_type": "error",
     "traceback": [
      "\u001b[1;31m---------------------------------------------------------------------------\u001b[0m",
      "\u001b[1;31mAxisError\u001b[0m                                 Traceback (most recent call last)",
      "\u001b[1;32m<ipython-input-49-e9b56af15974>\u001b[0m in \u001b[0;36m<module>\u001b[1;34m\u001b[0m\n\u001b[0;32m      7\u001b[0m \u001b[0mprint\u001b[0m\u001b[1;33m(\u001b[0m\u001b[0mz\u001b[0m\u001b[1;33m)\u001b[0m\u001b[1;33m\u001b[0m\u001b[1;33m\u001b[0m\u001b[0m\n\u001b[0;32m      8\u001b[0m \u001b[0mprint\u001b[0m\u001b[1;33m(\u001b[0m\u001b[1;34m'==='\u001b[0m\u001b[1;33m)\u001b[0m\u001b[1;33m\u001b[0m\u001b[1;33m\u001b[0m\u001b[0m\n\u001b[1;32m----> 9\u001b[1;33m \u001b[0mz\u001b[0m\u001b[1;33m=\u001b[0m\u001b[0mnp\u001b[0m\u001b[1;33m.\u001b[0m\u001b[0mconcatenate\u001b[0m\u001b[1;33m(\u001b[0m\u001b[1;33m[\u001b[0m\u001b[0mx\u001b[0m\u001b[1;33m,\u001b[0m\u001b[0my\u001b[0m\u001b[1;33m]\u001b[0m\u001b[1;33m,\u001b[0m\u001b[0maxis\u001b[0m\u001b[1;33m=\u001b[0m\u001b[1;36m1\u001b[0m\u001b[1;33m)\u001b[0m\u001b[1;33m\u001b[0m\u001b[1;33m\u001b[0m\u001b[0m\n\u001b[0m\u001b[0;32m     10\u001b[0m \u001b[0mprint\u001b[0m\u001b[1;33m(\u001b[0m\u001b[0mz\u001b[0m\u001b[1;33m)\u001b[0m\u001b[1;33m\u001b[0m\u001b[1;33m\u001b[0m\u001b[0m\n",
      "\u001b[1;32m<__array_function__ internals>\u001b[0m in \u001b[0;36mconcatenate\u001b[1;34m(*args, **kwargs)\u001b[0m\n",
      "\u001b[1;31mAxisError\u001b[0m: axis 1 is out of bounds for array of dimension 1"
     ]
    }
   ],
   "source": [
    "x=np.array([1,2,3,4])\n",
    "y=np.array([6,7,8,9])\n",
    "z=np.concatenate([x,y])\n",
    "print(z)\n",
    "print('===')\n",
    "z=np.concatenate([x,y],axis=0)\n",
    "print(z)\n"
   ]
  },
  {
   "cell_type": "code",
   "execution_count": 53,
   "metadata": {},
   "outputs": [
    {
     "name": "stdout",
     "output_type": "stream",
     "text": [
      "[[1 2 3]\n",
      " [7 8 9]]\n",
      "===================\n",
      "[[1 2 3]\n",
      " [7 8 9]]\n",
      "===================\n",
      "[[1 2 3 7 8 9]]\n"
     ]
    }
   ],
   "source": [
    "x=np.array([1,2,3]).reshape(1,3)\n",
    "y=np.array([7,8,9]).reshape(1,3)\n",
    "z=np.concatenate([x,y])\n",
    "print(z)\n",
    "print('===================')\n",
    "z=np.concatenate([x,y],axis=0)\n",
    "print(z)\n",
    "print('===================')\n",
    "z=np.concatenate([x,y],axis=1)\n",
    "print(z)"
   ]
  },
  {
   "cell_type": "code",
   "execution_count": 57,
   "metadata": {},
   "outputs": [
    {
     "name": "stdout",
     "output_type": "stream",
     "text": [
      "[[ 1  2  3]\n",
      " [ 4  5  6]\n",
      " [ 7  8  9]\n",
      " [10 11 21]]\n",
      "==================\n",
      "[[ 1  2  3]\n",
      " [ 4  5  6]\n",
      " [ 7  8  9]\n",
      " [10 11 21]]\n",
      "====================\n",
      "[[ 1  2  3  7  8  9]\n",
      " [ 4  5  6 10 11 21]]\n"
     ]
    }
   ],
   "source": [
    "x=np.array([[1,2,3],[4,5,6]])\n",
    "y=np.array([[7,8,9],[10,11,21]])\n",
    "z=np.concatenate([x,y])\n",
    "print(z)\n",
    "print('==================')\n",
    "z=np.concatenate([x,y],axis=0)\n",
    "print(z)\n",
    "print('====================')\n",
    "z=np.concatenate([x,y],axis=1)\n",
    "print(z)"
   ]
  },
  {
   "cell_type": "markdown",
   "metadata": {},
   "source": [
    "- numpy.stack(arrays, axis=0, out=None)"
   ]
  },
  {
   "cell_type": "code",
   "execution_count": 59,
   "metadata": {},
   "outputs": [
    {
     "name": "stdout",
     "output_type": "stream",
     "text": [
      "(2, 3)\n",
      "[[1 2 3]\n",
      " [9 7 6]]\n",
      "=====================\n",
      "(3, 2)\n",
      "[[1 9]\n",
      " [2 7]\n",
      " [3 6]]\n"
     ]
    }
   ],
   "source": [
    "x=np.array([1,2,3])\n",
    "y=np.array([9,7,6])\n",
    "z=np.stack([x,y])\n",
    "print(z.shape)\n",
    "print(z)\n",
    "print('=====================')\n",
    "z=np.stack([x,y],axis=1)\n",
    "print(z.shape)\n",
    "print(z)"
   ]
  },
  {
   "cell_type": "code",
   "execution_count": 63,
   "metadata": {},
   "outputs": [
    {
     "name": "stdout",
     "output_type": "stream",
     "text": [
      "(2, 1, 3)\n",
      "[[[1 2 3]]\n",
      "\n",
      " [[9 7 6]]]\n",
      "=======================\n",
      "(2, 1, 3)\n",
      "[[[1 2 3]]\n",
      "\n",
      " [[9 7 6]]]\n",
      "=======================\n",
      "(1, 2, 3)\n",
      "[[[1 2 3]\n",
      "  [9 7 6]]]\n",
      "=======================\n",
      "(1, 3, 2)\n",
      "[[[1 9]\n",
      "  [2 7]\n",
      "  [3 6]]]\n"
     ]
    }
   ],
   "source": [
    "x=np.array([1,2,3]).reshape(1,3)\n",
    "y=np.array([9,7,6]).reshape(1,3)\n",
    "z=np.stack([x,y])\n",
    "print(z.shape)\n",
    "print(z)\n",
    "print('=======================')\n",
    "z=np.stack([x,y],axis=0)\n",
    "print(z.shape)\n",
    "print(z)\n",
    "print('=======================')\n",
    "z=np.stack([x,y],axis=1)\n",
    "print(z.shape)\n",
    "print(z)\n",
    "print('=======================')\n",
    "z=np.stack([x,y],axis=2)\n",
    "print(z.shape)\n",
    "print(z)"
   ]
  },
  {
   "cell_type": "code",
   "execution_count": 69,
   "metadata": {},
   "outputs": [
    {
     "name": "stdout",
     "output_type": "stream",
     "text": [
      "(2, 2, 3)\n",
      "[[[11 22 33]\n",
      "  [55 66 77]]\n",
      "\n",
      " [[12 23 34]\n",
      "  [45 56 67]]]\n",
      "====================\n",
      "(2, 2, 3)\n",
      "[[[11 22 33]\n",
      "  [12 23 34]]\n",
      "\n",
      " [[55 66 77]\n",
      "  [45 56 67]]]\n",
      "====================\n",
      "(2, 3, 2)\n",
      "[[[11 12]\n",
      "  [22 23]\n",
      "  [33 34]]\n",
      "\n",
      " [[55 45]\n",
      "  [66 56]\n",
      "  [77 67]]]\n"
     ]
    }
   ],
   "source": [
    "x=np.array([[11,22,33],[55,66,77]])\n",
    "y=np.array([[12,23,34],[45,56,67]])\n",
    "z=np.stack([x,y])\n",
    "print(z.shape)\n",
    "print(z)\n",
    "print('====================')\n",
    "z=np.stack([x,y],axis=1)\n",
    "print(z.shape)\n",
    "print(z)\n",
    "print('====================')\n",
    "z=np.stack([x,y],axis=2)\n",
    "print(z.shape)\n",
    "print(z)"
   ]
  },
  {
   "cell_type": "markdown",
   "metadata": {},
   "source": [
    "- numpy.vstack(tup)垂直堆叠数据\n",
    "- numpy.hstack(tup)水平堆叠数据"
   ]
  },
  {
   "cell_type": "code",
   "execution_count": 77,
   "metadata": {},
   "outputs": [
    {
     "name": "stdout",
     "output_type": "stream",
     "text": [
      "(2, 3)\n",
      "[[1 2 3]\n",
      " [6 7 8]]\n",
      "=================\n",
      "(2, 3)\n",
      "[[1 2 3]\n",
      " [6 7 8]]\n",
      "=================\n",
      "(6,)\n",
      "[1 2 3 6 7 8]\n",
      "=================\n",
      "(6,)\n",
      "[1 2 3 6 7 8]\n",
      "=================\n"
     ]
    }
   ],
   "source": [
    "x=np.array([1,2,3])\n",
    "y=np.array([6,7,8])\n",
    "z=np.stack([x,y])\n",
    "print(z.shape)\n",
    "print(z)\n",
    "print('=================')\n",
    "z=np.vstack((x,y))\n",
    "print(z.shape)\n",
    "print(z)\n",
    "print('=================')\n",
    "z=np.hstack((x,y))\n",
    "print(z.shape)\n",
    "print(z)\n",
    "print('=================')\n",
    "z=np.concatenate((x,y))\n",
    "print(z.shape)\n",
    "print(z)\n",
    "print('=================')\n"
   ]
  },
  {
   "cell_type": "code",
   "execution_count": 81,
   "metadata": {},
   "outputs": [
    {
     "name": "stdout",
     "output_type": "stream",
     "text": [
      "(2, 3)\n",
      "[[11 22 33]\n",
      " [66 77 88]]\n",
      "====================\n",
      "(2, 3)\n",
      "[[11 22 33]\n",
      " [66 77 88]]\n",
      "======================\n",
      "(1, 6)\n",
      "[[11 22 33 66 77 88]]\n",
      "====================\n",
      "(1, 6)\n",
      "[[11 22 33 66 77 88]]\n"
     ]
    }
   ],
   "source": [
    "x=np.array([11,22,33]).reshape(1,3)\n",
    "y=np.array([66,77,88]).reshape(1,3)\n",
    "z=np.vstack((x,y))\n",
    "print(z.shape)\n",
    "print(z)\n",
    "print('====================')\n",
    "z=np.concatenate((x,y),axis=0)\n",
    "print(z.shape)\n",
    "print(z)\n",
    "print('======================')\n",
    "z=np.hstack((x,y))\n",
    "print(z.shape)\n",
    "print(z)\n",
    "print('====================')\n",
    "z=np.concatenate((x,y),axis=1)\n",
    "print(z.shape)\n",
    "print(z)"
   ]
  },
  {
   "cell_type": "code",
   "execution_count": 86,
   "metadata": {},
   "outputs": [
    {
     "name": "stdout",
     "output_type": "stream",
     "text": [
      "(4, 3)\n",
      "[[11 22 33]\n",
      " [77 88 99]\n",
      " [34 45 56]\n",
      " [78 89 98]]\n",
      "========1========\n",
      "(4, 3)\n",
      "[[11 22 33]\n",
      " [77 88 99]\n",
      " [34 45 56]\n",
      " [78 89 98]]\n",
      "=========2===============\n",
      "(2, 6)\n",
      "[[11 22 33 34 45 56]\n",
      " [77 88 99 78 89 98]]\n",
      "==============3===============\n",
      "(2, 6)\n",
      "[[11 22 33 34 45 56]\n",
      " [77 88 99 78 89 98]]\n"
     ]
    }
   ],
   "source": [
    "x=np.array([[11,22,33],[77,88,99]])\n",
    "y=np.array([[34,45,56],[78,89,98]])\n",
    "z=np.vstack((x,y))\n",
    "print(z.shape)\n",
    "print(z)\n",
    "print('========1========')\n",
    "z=np.concatenate((x,y),axis=0)\n",
    "print(z.shape)\n",
    "print(z)\n",
    "print('=========2===============')\n",
    "z=np.hstack((x,y))\n",
    "print(z.shape)\n",
    "print(z)\n",
    "print('==============3===============')\n",
    "z=np.concatenate((x,y),axis=1)\n",
    "print(z.shape)\n",
    "print(z)\n"
   ]
  },
  {
   "cell_type": "markdown",
   "metadata": {},
   "source": [
    "hstack(),vstack()分别表示水平和竖直的拼接方式。在数据维度等于1时，比较特殊。而当维度大于或等于2时，它们的作用相当于concatenate，用于在已有轴上进行操作。"
   ]
  },
  {
   "cell_type": "code",
   "execution_count": 88,
   "metadata": {},
   "outputs": [
    {
     "name": "stdout",
     "output_type": "stream",
     "text": [
      "[1 2 3 4 5]\n"
     ]
    }
   ],
   "source": [
    "a=np.hstack([np.array([1,2,3,4]),5])\n",
    "print(a)"
   ]
  },
  {
   "cell_type": "code",
   "execution_count": 89,
   "metadata": {
    "scrolled": true
   },
   "outputs": [
    {
     "ename": "ValueError",
     "evalue": "all the input arrays must have same number of dimensions, but the array at index 0 has 1 dimension(s) and the array at index 1 has 0 dimension(s)",
     "output_type": "error",
     "traceback": [
      "\u001b[1;31m---------------------------------------------------------------------------\u001b[0m",
      "\u001b[1;31mValueError\u001b[0m                                Traceback (most recent call last)",
      "\u001b[1;32m<ipython-input-89-3759582f84f9>\u001b[0m in \u001b[0;36m<module>\u001b[1;34m\u001b[0m\n\u001b[1;32m----> 1\u001b[1;33m \u001b[0ma\u001b[0m\u001b[1;33m=\u001b[0m\u001b[0mnp\u001b[0m\u001b[1;33m.\u001b[0m\u001b[0mconcatenate\u001b[0m\u001b[1;33m(\u001b[0m\u001b[1;33m[\u001b[0m\u001b[0mnp\u001b[0m\u001b[1;33m.\u001b[0m\u001b[0marray\u001b[0m\u001b[1;33m(\u001b[0m\u001b[1;33m[\u001b[0m\u001b[1;36m1\u001b[0m\u001b[1;33m,\u001b[0m\u001b[1;36m2\u001b[0m\u001b[1;33m,\u001b[0m\u001b[1;36m3\u001b[0m\u001b[1;33m,\u001b[0m\u001b[1;36m4\u001b[0m\u001b[1;33m]\u001b[0m\u001b[1;33m)\u001b[0m\u001b[1;33m,\u001b[0m\u001b[1;36m5\u001b[0m\u001b[1;33m]\u001b[0m\u001b[1;33m)\u001b[0m\u001b[1;33m\u001b[0m\u001b[1;33m\u001b[0m\u001b[0m\n\u001b[0m\u001b[0;32m      2\u001b[0m \u001b[0mprint\u001b[0m\u001b[1;33m(\u001b[0m\u001b[0ma\u001b[0m\u001b[1;33m)\u001b[0m\u001b[1;33m\u001b[0m\u001b[1;33m\u001b[0m\u001b[0m\n",
      "\u001b[1;32m<__array_function__ internals>\u001b[0m in \u001b[0;36mconcatenate\u001b[1;34m(*args, **kwargs)\u001b[0m\n",
      "\u001b[1;31mValueError\u001b[0m: all the input arrays must have same number of dimensions, but the array at index 0 has 1 dimension(s) and the array at index 1 has 0 dimension(s)"
     ]
    }
   ],
   "source": [
    "a=np.concatenate([np.array([1,2,3,4]),5])\n",
    "print(a)"
   ]
  },
  {
   "cell_type": "markdown",
   "metadata": {},
   "source": [
    "## 数组拆分\n",
    "- numpy.split(ary, indices_or_sections, axis=0)"
   ]
  },
  {
   "cell_type": "code",
   "execution_count": 91,
   "metadata": {},
   "outputs": [
    {
     "name": "stdout",
     "output_type": "stream",
     "text": [
      "[array([[11, 22, 33, 44]]), array([[23, 34, 45, 56],\n",
      "       [56, 78, 89, 98]]), array([[56, 57, 58, 59]])]\n",
      "===============\n",
      "[array([[11],\n",
      "       [23],\n",
      "       [56],\n",
      "       [56]]), array([[22, 33],\n",
      "       [34, 45],\n",
      "       [78, 89],\n",
      "       [57, 58]]), array([[44],\n",
      "       [56],\n",
      "       [98],\n",
      "       [59]])]\n"
     ]
    }
   ],
   "source": [
    "x=np.array([[11,22,33,44],\n",
    "           [23,34,45,56],\n",
    "           [56,78,89,98],\n",
    "           [56,57,58,59]])\n",
    "y=np.split(x,[1,3])\n",
    "print(y)\n",
    "print('=======1========')\n",
    "y=np.split(x,[1,3],axis=1)\n",
    "print(y)\n",
    "print('=====2==================')\n"
   ]
  },
  {
   "cell_type": "markdown",
   "metadata": {},
   "source": [
    "- numpy.vsplit(ary, indices_or_sections)"
   ]
  },
  {
   "cell_type": "code",
   "execution_count": 98,
   "metadata": {},
   "outputs": [
    {
     "name": "stdout",
     "output_type": "stream",
     "text": [
      "[array([[11, 22, 33, 44]]), array([[23, 34, 45, 56]]), array([[56, 78, 89, 98]]), array([[56, 57, 58, 59]])]\n",
      "===============1=========\n",
      "[array([[11, 22, 33, 44]]), array([[23, 34, 45, 56]]), array([[56, 78, 89, 98]]), array([[56, 57, 58, 59]])]\n",
      "========3==================\n",
      "[array([[11, 22, 33, 44]]), array([[23, 34, 45, 56],\n",
      "       [56, 78, 89, 98],\n",
      "       [56, 57, 58, 59]])]\n",
      "===========4===================\n",
      "[array([[11, 22, 33, 44]]), array([[23, 34, 45, 56],\n",
      "       [56, 78, 89, 98],\n",
      "       [56, 57, 58, 59]])]\n",
      "===========5===================\n",
      "[array([[11, 22, 33, 44]]), array([[23, 34, 45, 56],\n",
      "       [56, 78, 89, 98]]), array([[56, 57, 58, 59]])]\n",
      "===========6===================\n",
      "[array([[11, 22, 33, 44]]), array([[23, 34, 45, 56],\n",
      "       [56, 78, 89, 98]]), array([[56, 57, 58, 59]])]\n"
     ]
    }
   ],
   "source": [
    "x=np.array([[11,22,33,44],\n",
    "           [23,34,45,56],\n",
    "           [56,78,89,98],\n",
    "           [56,57,58,59]])\n",
    "y=np.vsplit(x,4)\n",
    "print(y)\n",
    "print('===============1=========')\n",
    "y=np.split(x,4)\n",
    "print(y)\n",
    "print('========3==================')\n",
    "y=np.vsplit(x,[1])\n",
    "print(y)\n",
    "print('===========4===================')\n",
    "y=np.split(x,[1])\n",
    "print(y)\n",
    "print('===========5===================')\n",
    "y=np.vsplit(x,[1,3])\n",
    "print(y)\n",
    "print('===========6===================')\n",
    "y=np.split(x,[1,3],axis=0)\n",
    "print(y)"
   ]
  },
  {
   "cell_type": "markdown",
   "metadata": {},
   "source": [
    "- numpy.hsplit(ary, indices_or_sections) "
   ]
  },
  {
   "cell_type": "code",
   "execution_count": 102,
   "metadata": {},
   "outputs": [
    {
     "name": "stdout",
     "output_type": "stream",
     "text": [
      "[array([[11, 22],\n",
      "       [23, 34],\n",
      "       [56, 78],\n",
      "       [56, 57]]), array([[33, 44],\n",
      "       [45, 56],\n",
      "       [89, 98],\n",
      "       [58, 59]])]\n",
      "===========1============\n",
      "[array([[11, 22],\n",
      "       [23, 34],\n",
      "       [56, 78],\n",
      "       [56, 57]]), array([[33, 44],\n",
      "       [45, 56],\n",
      "       [89, 98],\n",
      "       [58, 59]])]\n",
      "===========2============\n",
      "[array([[11, 22, 33],\n",
      "       [23, 34, 45],\n",
      "       [56, 78, 89],\n",
      "       [56, 57, 58]]), array([[44],\n",
      "       [56],\n",
      "       [98],\n",
      "       [59]])]\n",
      "===========3============\n",
      "[array([[11],\n",
      "       [23],\n",
      "       [56],\n",
      "       [56]]), array([[22, 33],\n",
      "       [34, 45],\n",
      "       [78, 89],\n",
      "       [57, 58]]), array([[44],\n",
      "       [56],\n",
      "       [98],\n",
      "       [59]])]\n"
     ]
    }
   ],
   "source": [
    "x=np.array([[11,22,33,44],\n",
    "           [23,34,45,56],\n",
    "           [56,78,89,98],\n",
    "           [56,57,58,59]])\n",
    "y = np.hsplit(x, 2)\n",
    "print(y)\n",
    "print('===========1============')\n",
    "y = np.split(x, 2,axis=1)\n",
    "print(y)\n",
    "print('===========2============')\n",
    "y = np.hsplit(x, [3])\n",
    "print(y)\n",
    "print('===========3============')\n",
    "y = np.split(x, [1,3],axis=1)\n",
    "print(y)"
   ]
  },
  {
   "cell_type": "markdown",
   "metadata": {},
   "source": [
    "## 数组平铺\n",
    "- numpy.tile(A, reps) Construct an array by repeating A the number of times given by reps.\n",
    "- tile是瓷砖的意思，顾名思义，这个函数就是把数组像瓷砖一样铺展开来"
   ]
  },
  {
   "cell_type": "code",
   "execution_count": 105,
   "metadata": {},
   "outputs": [
    {
     "name": "stdout",
     "output_type": "stream",
     "text": [
      "[[1 2]\n",
      " [3 4]]\n",
      "======1===============\n",
      "[[1 2 1 2 1 2]\n",
      " [3 4 3 4 3 4]]\n",
      "======2===============\n",
      "[[1 2]\n",
      " [3 4]\n",
      " [1 2]\n",
      " [3 4]\n",
      " [1 2]\n",
      " [3 4]]\n",
      "======3===============\n",
      "[[1 2 1 2 1 2]\n",
      " [3 4 3 4 3 4]\n",
      " [1 2 1 2 1 2]\n",
      " [3 4 3 4 3 4]\n",
      " [1 2 1 2 1 2]\n",
      " [3 4 3 4 3 4]]\n"
     ]
    }
   ],
   "source": [
    "x = np.array([[1, 2], [3, 4]])\n",
    "print(x)\n",
    "print('======1===============')\n",
    "y=np.tile(x,(1,3))\n",
    "print(y)\n",
    "print('======2===============')\n",
    "y=np.tile(x,(3,1))\n",
    "print(y)\n",
    "print('======3===============')\n",
    "y=np.tile(x,(3,3))\n",
    "print(y)"
   ]
  },
  {
   "cell_type": "markdown",
   "metadata": {},
   "source": [
    "- numpy.repeat(a, repeats, axis=None) Repeat elements of an array.\n",
    "- axis=0，沿着y轴复制，实际上增加了行数。\n",
    "- axis=1，沿着x轴复制，实际上增加了列数。\n",
    "- repeats，可以为一个数，也可以为一个矩阵。\n",
    "- axis=None时就会flatten当前矩阵，实际上就是变成了一个行向量"
   ]
  },
  {
   "cell_type": "code",
   "execution_count": 110,
   "metadata": {},
   "outputs": [
    {
     "name": "stdout",
     "output_type": "stream",
     "text": [
      "[3 3 3 3]\n",
      "============1===========\n",
      "[1 1 2 2 3 3 4 4]\n",
      "===========2================\n",
      "[[1 2]\n",
      " [1 2]\n",
      " [3 4]\n",
      " [3 4]]\n",
      "===========3================\n",
      "[[1 2]\n",
      " [1 2]\n",
      " [3 4]\n",
      " [3 4]]\n",
      "===========4================\n",
      "[[1 2]\n",
      " [1 2]\n",
      " [3 4]\n",
      " [3 4]\n",
      " [3 4]]\n",
      "===========5================\n",
      "[[1 1 2 2 2]\n",
      " [3 3 4 4 4]]\n"
     ]
    }
   ],
   "source": [
    "x=np.repeat(3,4)\n",
    "print(x)\n",
    "print('============1===========')\n",
    "x=np.array([[1,2],[3,4]])\n",
    "y=np.repeat(x,2)\n",
    "print(y)\n",
    "print('===========2================')\n",
    "y=np.repeat(x,2,axis=0)\n",
    "print(y)\n",
    "print('===========3================')\n",
    "y=np.repeat(x,2,axis=0)\n",
    "print(y)\n",
    "print('===========4================')\n",
    "y=np.repeat(x,[2,3],axis=0)\n",
    "print(y)\n",
    "print('===========5================')\n",
    "y=np.repeat(x,[2,3],axis=1)\n",
    "print(y)\n"
   ]
  },
  {
   "cell_type": "markdown",
   "metadata": {},
   "source": [
    "## 添加和删除元素\n",
    "- numpy.unique(ar, return_index=False, return_inverse=False,return_counts=False, axis=None) 查找唯一数组.\n",
    "- return_index：\n",
    "- return_inverse：输入索引\n",
    "- return_counts：唯一值的次数"
   ]
  },
  {
   "cell_type": "code",
   "execution_count": 117,
   "metadata": {},
   "outputs": [
    {
     "name": "stdout",
     "output_type": "stream",
     "text": [
      "4\n"
     ]
    }
   ],
   "source": [
    "a=np.array([1,11,2,22,3,33,4,4,5,5])\n",
    "b=np.unique(a,return_counts=True)\n",
    "print(b[0][list(b[1]).index(2)])"
   ]
  },
  {
   "cell_type": "code",
   "execution_count": null,
   "metadata": {},
   "outputs": [],
   "source": []
  },
  {
   "cell_type": "code",
   "execution_count": null,
   "metadata": {},
   "outputs": [],
   "source": []
  },
  {
   "cell_type": "code",
   "execution_count": null,
   "metadata": {},
   "outputs": [],
   "source": []
  }
 ],
 "metadata": {
  "kernelspec": {
   "display_name": "Python 3",
   "language": "python",
   "name": "python3"
  },
  "language_info": {
   "codemirror_mode": {
    "name": "ipython",
    "version": 3
   },
   "file_extension": ".py",
   "mimetype": "text/x-python",
   "name": "python",
   "nbconvert_exporter": "python",
   "pygments_lexer": "ipython3",
   "version": "3.8.3"
  }
 },
 "nbformat": 4,
 "nbformat_minor": 4
}
